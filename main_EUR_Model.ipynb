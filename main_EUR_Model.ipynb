{
  "cells": [
    {
      "cell_type": "markdown",
      "metadata": {
        "id": "view-in-github",
        "colab_type": "text"
      },
      "source": [
        "<a href=\"https://colab.research.google.com/github/MajoCarb/AmphoraProject/blob/master/main_EUR_Model.ipynb\" target=\"_parent\"><img src=\"https://colab.research.google.com/assets/colab-badge.svg\" alt=\"Open In Colab\"/></a>"
      ]
    },
    {
      "cell_type": "markdown",
      "metadata": {
        "id": "EAgBi8J3udz_"
      },
      "source": [
        "## AMPHORA CHALLENGE\n",
        "#### By María José Carbajal Alonso"
      ]
    },
    {
      "cell_type": "code",
      "execution_count": 46,
      "metadata": {
        "id": "IlRyEzevud0D",
        "colab": {
          "base_uri": "https://localhost:8080/"
        },
        "outputId": "16ceac74-d5cd-454c-91b0-54f1683d0362"
      },
      "outputs": [
        {
          "output_type": "stream",
          "name": "stdout",
          "text": [
            "Drive already mounted at /content/drive; to attempt to forcibly remount, call drive.mount(\"/content/drive\", force_remount=True).\n"
          ]
        }
      ],
      "source": [
        "#importar librerias\n",
        "import pandas as pd\n",
        "import numpy as np\n",
        "from google.colab import drive\n",
        "drive.mount('/content/drive')"
      ]
    },
    {
      "cell_type": "code",
      "source": [
        ""
      ],
      "metadata": {
        "id": "G_XL_WtshnEs",
        "colab": {
          "base_uri": "https://localhost:8080/"
        },
        "outputId": "dbba58b3-b5cd-451e-e943-1383c262a651"
      },
      "execution_count": 2,
      "outputs": [
        {
          "output_type": "stream",
          "name": "stdout",
          "text": [
            "Drive already mounted at /content/drive; to attempt to forcibly remount, call drive.mount(\"/content/drive\", force_remount=True).\n"
          ]
        }
      ]
    },
    {
      "cell_type": "code",
      "execution_count": 56,
      "metadata": {
        "id": "oN824E0nud0E",
        "outputId": "0cb2ccca-2071-40fa-84e6-cf657dcf5187",
        "colab": {
          "base_uri": "https://localhost:8080/",
          "height": 634
        }
      },
      "outputs": [
        {
          "output_type": "stream",
          "name": "stdout",
          "text": [
            "AFR\n",
            "AFRAFR\n",
            "AFRAFRAFR\n",
            "AFRAFRAFRAFR\n",
            "AFRAFRAFRAFRAFR\n",
            "AFRAFRAFRAFRAFRAFR\n",
            "AFRAFRAFRAFRAFRAFRAFR\n",
            "AFRAFRAFRAFRAFRAFRAFRAFR\n",
            "AFRAFRAFRAFRAFRAFRAFRAFRAFR\n",
            "AFRAFRAFRAFRAFRAFRAFRAFRAFRAFR\n"
          ]
        },
        {
          "output_type": "execute_result",
          "data": {
            "text/plain": [
              "            superpopulation_code\n",
              "sample_name                     \n",
              "NA19625                      AFR\n",
              "NA19835                      AFR\n",
              "NA19900                      AFR\n",
              "NA19917                      AFR\n",
              "NA19703                      AFR\n",
              "...                          ...\n",
              "NA19201                      AFR\n",
              "NA19206                      AFR\n",
              "NA19213                      AFR\n",
              "NA19225                      AFR\n",
              "NA19143                      AFR\n",
              "\n",
              "[2504 rows x 1 columns]"
            ],
            "text/html": [
              "\n",
              "  <div id=\"df-814411d5-7911-47fa-8de5-bb3aa7bf221b\">\n",
              "    <div class=\"colab-df-container\">\n",
              "      <div>\n",
              "<style scoped>\n",
              "    .dataframe tbody tr th:only-of-type {\n",
              "        vertical-align: middle;\n",
              "    }\n",
              "\n",
              "    .dataframe tbody tr th {\n",
              "        vertical-align: top;\n",
              "    }\n",
              "\n",
              "    .dataframe thead th {\n",
              "        text-align: right;\n",
              "    }\n",
              "</style>\n",
              "<table border=\"1\" class=\"dataframe\">\n",
              "  <thead>\n",
              "    <tr style=\"text-align: right;\">\n",
              "      <th></th>\n",
              "      <th>superpopulation_code</th>\n",
              "    </tr>\n",
              "    <tr>\n",
              "      <th>sample_name</th>\n",
              "      <th></th>\n",
              "    </tr>\n",
              "  </thead>\n",
              "  <tbody>\n",
              "    <tr>\n",
              "      <th>NA19625</th>\n",
              "      <td>AFR</td>\n",
              "    </tr>\n",
              "    <tr>\n",
              "      <th>NA19835</th>\n",
              "      <td>AFR</td>\n",
              "    </tr>\n",
              "    <tr>\n",
              "      <th>NA19900</th>\n",
              "      <td>AFR</td>\n",
              "    </tr>\n",
              "    <tr>\n",
              "      <th>NA19917</th>\n",
              "      <td>AFR</td>\n",
              "    </tr>\n",
              "    <tr>\n",
              "      <th>NA19703</th>\n",
              "      <td>AFR</td>\n",
              "    </tr>\n",
              "    <tr>\n",
              "      <th>...</th>\n",
              "      <td>...</td>\n",
              "    </tr>\n",
              "    <tr>\n",
              "      <th>NA19201</th>\n",
              "      <td>AFR</td>\n",
              "    </tr>\n",
              "    <tr>\n",
              "      <th>NA19206</th>\n",
              "      <td>AFR</td>\n",
              "    </tr>\n",
              "    <tr>\n",
              "      <th>NA19213</th>\n",
              "      <td>AFR</td>\n",
              "    </tr>\n",
              "    <tr>\n",
              "      <th>NA19225</th>\n",
              "      <td>AFR</td>\n",
              "    </tr>\n",
              "    <tr>\n",
              "      <th>NA19143</th>\n",
              "      <td>AFR</td>\n",
              "    </tr>\n",
              "  </tbody>\n",
              "</table>\n",
              "<p>2504 rows × 1 columns</p>\n",
              "</div>\n",
              "      <button class=\"colab-df-convert\" onclick=\"convertToInteractive('df-814411d5-7911-47fa-8de5-bb3aa7bf221b')\"\n",
              "              title=\"Convert this dataframe to an interactive table.\"\n",
              "              style=\"display:none;\">\n",
              "        \n",
              "  <svg xmlns=\"http://www.w3.org/2000/svg\" height=\"24px\"viewBox=\"0 0 24 24\"\n",
              "       width=\"24px\">\n",
              "    <path d=\"M0 0h24v24H0V0z\" fill=\"none\"/>\n",
              "    <path d=\"M18.56 5.44l.94 2.06.94-2.06 2.06-.94-2.06-.94-.94-2.06-.94 2.06-2.06.94zm-11 1L8.5 8.5l.94-2.06 2.06-.94-2.06-.94L8.5 2.5l-.94 2.06-2.06.94zm10 10l.94 2.06.94-2.06 2.06-.94-2.06-.94-.94-2.06-.94 2.06-2.06.94z\"/><path d=\"M17.41 7.96l-1.37-1.37c-.4-.4-.92-.59-1.43-.59-.52 0-1.04.2-1.43.59L10.3 9.45l-7.72 7.72c-.78.78-.78 2.05 0 2.83L4 21.41c.39.39.9.59 1.41.59.51 0 1.02-.2 1.41-.59l7.78-7.78 2.81-2.81c.8-.78.8-2.07 0-2.86zM5.41 20L4 18.59l7.72-7.72 1.47 1.35L5.41 20z\"/>\n",
              "  </svg>\n",
              "      </button>\n",
              "      \n",
              "  <style>\n",
              "    .colab-df-container {\n",
              "      display:flex;\n",
              "      flex-wrap:wrap;\n",
              "      gap: 12px;\n",
              "    }\n",
              "\n",
              "    .colab-df-convert {\n",
              "      background-color: #E8F0FE;\n",
              "      border: none;\n",
              "      border-radius: 50%;\n",
              "      cursor: pointer;\n",
              "      display: none;\n",
              "      fill: #1967D2;\n",
              "      height: 32px;\n",
              "      padding: 0 0 0 0;\n",
              "      width: 32px;\n",
              "    }\n",
              "\n",
              "    .colab-df-convert:hover {\n",
              "      background-color: #E2EBFA;\n",
              "      box-shadow: 0px 1px 2px rgba(60, 64, 67, 0.3), 0px 1px 3px 1px rgba(60, 64, 67, 0.15);\n",
              "      fill: #174EA6;\n",
              "    }\n",
              "\n",
              "    [theme=dark] .colab-df-convert {\n",
              "      background-color: #3B4455;\n",
              "      fill: #D2E3FC;\n",
              "    }\n",
              "\n",
              "    [theme=dark] .colab-df-convert:hover {\n",
              "      background-color: #434B5C;\n",
              "      box-shadow: 0px 1px 3px 1px rgba(0, 0, 0, 0.15);\n",
              "      filter: drop-shadow(0px 1px 2px rgba(0, 0, 0, 0.3));\n",
              "      fill: #FFFFFF;\n",
              "    }\n",
              "  </style>\n",
              "\n",
              "      <script>\n",
              "        const buttonEl =\n",
              "          document.querySelector('#df-814411d5-7911-47fa-8de5-bb3aa7bf221b button.colab-df-convert');\n",
              "        buttonEl.style.display =\n",
              "          google.colab.kernel.accessAllowed ? 'block' : 'none';\n",
              "\n",
              "        async function convertToInteractive(key) {\n",
              "          const element = document.querySelector('#df-814411d5-7911-47fa-8de5-bb3aa7bf221b');\n",
              "          const dataTable =\n",
              "            await google.colab.kernel.invokeFunction('convertToInteractive',\n",
              "                                                     [key], {});\n",
              "          if (!dataTable) return;\n",
              "\n",
              "          const docLinkHtml = 'Like what you see? Visit the ' +\n",
              "            '<a target=\"_blank\" href=https://colab.research.google.com/notebooks/data_table.ipynb>data table notebook</a>'\n",
              "            + ' to learn more about interactive tables.';\n",
              "          element.innerHTML = '';\n",
              "          dataTable['output_type'] = 'display_data';\n",
              "          await google.colab.output.renderOutput(dataTable, element);\n",
              "          const docLink = document.createElement('div');\n",
              "          docLink.innerHTML = docLinkHtml;\n",
              "          element.appendChild(docLink);\n",
              "        }\n",
              "      </script>\n",
              "    </div>\n",
              "  </div>\n",
              "  "
            ]
          },
          "metadata": {},
          "execution_count": 56
        }
      ],
      "source": [
        "#Ancestry file\n",
        "ancestry_file = pd.read_csv('drive/MyDrive/Amphora/ancestry-1000genome.tsv', sep='\\t')\n",
        "#ancestry_file = pd.read_csv('ancestry-1000genome.tsv', sep='\\t',index_col='Sample name')\n",
        "\n",
        "#Superpopulation code dataframe\n",
        "spp_code = pd.DataFrame()\n",
        "spp_code['sample_name'] = ancestry_file['Sample name']\n",
        "\n",
        "#getting the patients only\n",
        "patients = spp_code['sample_name']\n",
        "\n",
        "spp_code['superpopulation_code'] = ancestry_file['Superpopulation code']\n",
        "spp_code.set_index('sample_name', inplace=True)\n",
        "\n",
        "#getting the 5 categories we will use (ancestry types)\n",
        "ancestry_types = list(spp_code['superpopulation_code'].unique())\n",
        "\n",
        "spp_code"
      ]
    },
    {
      "cell_type": "code",
      "execution_count": 180,
      "metadata": {
        "id": "lzbqKB51ud0G",
        "outputId": "f01d2baa-1892-4b7b-bd6a-7bc012087fca",
        "colab": {
          "base_uri": "https://localhost:8080/"
        }
      },
      "outputs": [
        {
          "output_type": "stream",
          "name": "stdout",
          "text": [
            "['NA20876' 'HG01148' 'HG01366' 'HG01992' 'HG01851']\n"
          ]
        },
        {
          "output_type": "execute_result",
          "data": {
            "text/plain": [
              "2504"
            ]
          },
          "metadata": {},
          "execution_count": 180
        }
      ],
      "source": [
        "#Reduction of number of patients using a sample of 100%, random state makes that the sample be the same \n",
        "#using 60% of data, takes 50 minutes to create de dataframe with the ancestry\n",
        "\n",
        "patients_=patients.sample(frac=1, random_state=1)\n",
        "list(patients_.head(1).values)[0]\n",
        "print(str(np.array(patients_[:5])))\n",
        "len(patients_)"
      ]
    },
    {
      "cell_type": "code",
      "execution_count": 181,
      "metadata": {
        "id": "gHPmymiKud0H"
      },
      "outputs": [],
      "source": [
        "#selecting some patients in order to reduce data\n",
        "# patients_ = patients[426:449]\n",
        "# patients_= patients_.append([patients[524:542], patients[920:938], patients[1028:1046]])\n",
        "main_df = pd.DataFrame()\n",
        "lenn= 10028 #total len = 10028 of chr:location list\n",
        "\n",
        "for patient in patients_:   \n",
        "\n",
        "\n",
        "    patient_x = pd.read_csv('drive/MyDrive/Amphora/Challenge_Samples/'+patient+'.csv')\n",
        "    patient_x.rename(columns={patient:'Presence'},inplace=True)\n",
        "    \n",
        "    #Creating the ALT and Presence lists (These will be the columns)    \n",
        "    alt_list= list(patient_x['ALT'])\n",
        "    alt_list=alt_list[:lenn]\n",
        "    presence_list = list(patient_x['Presence'])\n",
        "    presence_list=presence_list[:lenn]\n",
        "\n",
        "    \n",
        "    sequence = (\"\".join(map(str, presence_list)))\n",
        "    code = list(spp_code[spp_code.index==patient]['superpopulation_code'] )\n",
        "    code\n",
        "\n",
        "    afr_res = 1  if code[0] == 'AFR' else 0\n",
        "    eur_res = 1  if code[0] == 'EUR' else 0\n",
        "    asian_res = 1  if code[0] == 'SAS' or code[0] == 'EAS' else 0\n",
        "\n",
        "    data = [patient, code[0], sequence, afr_res, eur_res, asian_res]\n",
        "    col = ['Patient', 'SPP_code', 'Sequence', 'AFR', 'EUR','ASIAN']\n",
        "\n",
        "    sample = {'Patient':patient, 'SPP_code':code[0], 'Sequence':sequence, 'AFR':afr_res, 'EUR': eur_res,'ASIAN':asian_res}\n",
        "    data\n",
        "\n",
        "    df = pd.DataFrame(columns=col)\n",
        "    df=df.append(sample, ignore_index=True)\n",
        "    df.set_index('Patient')\n",
        "\n",
        "    main_df = pd.concat([main_df,df], axis=0)\n",
        "\n",
        "    \n",
        "\n",
        "#patients_main_df=list(set(main_df.index.get_level_values('Patient')))\n",
        "#spp_code_main_df=list(set(main_df.index.get_level_values('Superpopulation Code')))\n",
        "main_df=main_df.set_index('Patient')\n",
        "\n"
      ]
    },
    {
      "cell_type": "code",
      "source": [
        "main_df"
      ],
      "metadata": {
        "colab": {
          "base_uri": "https://localhost:8080/",
          "height": 455
        },
        "id": "-mI-yYoOmF8M",
        "outputId": "285debff-ffcd-4408-a87e-b7a345c21844"
      },
      "execution_count": 161,
      "outputs": [
        {
          "output_type": "execute_result",
          "data": {
            "text/plain": [
              "        SPP_code                                           Sequence AFR EUR  \\\n",
              "Patient                                                                       \n",
              "NA20876      SAS  0000101011011010111011100010000010100011101000...   0   0   \n",
              "HG01148      AMR  0110100011011010111010000110000010100010110000...   0   0   \n",
              "HG01366      AMR  0011100111011010111011000010000011100000110000...   0   0   \n",
              "HG01992      AMR  0110100011111010111011000010001011101001101010...   0   0   \n",
              "HG01851      EAS  0001100000011000111011000010000011000101101000...   0   0   \n",
              "...          ...                                                ...  ..  ..   \n",
              "HG03971      SAS  0101110011101011111000000100000010100101101000...   0   0   \n",
              "HG01259      AMR  0100100001111010111011100000000010100011111000...   0   0   \n",
              "NA19448      AFR  0010000001111010110010100110000000101100100000...   1   0   \n",
              "HG03016      SAS  0100100101111010111010100010000010100101111000...   0   0   \n",
              "NA19089      EAS  0100100010111010111011100010000011000101001000...   0   0   \n",
              "\n",
              "        ASIAN  \n",
              "Patient        \n",
              "NA20876     1  \n",
              "HG01148     0  \n",
              "HG01366     0  \n",
              "HG01992     0  \n",
              "HG01851     1  \n",
              "...       ...  \n",
              "HG03971     1  \n",
              "HG01259     0  \n",
              "NA19448     0  \n",
              "HG03016     1  \n",
              "NA19089     1  \n",
              "\n",
              "[1002 rows x 5 columns]"
            ],
            "text/html": [
              "\n",
              "  <div id=\"df-2c8e3d88-b9ab-435a-a4f1-61ef69806496\">\n",
              "    <div class=\"colab-df-container\">\n",
              "      <div>\n",
              "<style scoped>\n",
              "    .dataframe tbody tr th:only-of-type {\n",
              "        vertical-align: middle;\n",
              "    }\n",
              "\n",
              "    .dataframe tbody tr th {\n",
              "        vertical-align: top;\n",
              "    }\n",
              "\n",
              "    .dataframe thead th {\n",
              "        text-align: right;\n",
              "    }\n",
              "</style>\n",
              "<table border=\"1\" class=\"dataframe\">\n",
              "  <thead>\n",
              "    <tr style=\"text-align: right;\">\n",
              "      <th></th>\n",
              "      <th>SPP_code</th>\n",
              "      <th>Sequence</th>\n",
              "      <th>AFR</th>\n",
              "      <th>EUR</th>\n",
              "      <th>ASIAN</th>\n",
              "    </tr>\n",
              "    <tr>\n",
              "      <th>Patient</th>\n",
              "      <th></th>\n",
              "      <th></th>\n",
              "      <th></th>\n",
              "      <th></th>\n",
              "      <th></th>\n",
              "    </tr>\n",
              "  </thead>\n",
              "  <tbody>\n",
              "    <tr>\n",
              "      <th>NA20876</th>\n",
              "      <td>SAS</td>\n",
              "      <td>0000101011011010111011100010000010100011101000...</td>\n",
              "      <td>0</td>\n",
              "      <td>0</td>\n",
              "      <td>1</td>\n",
              "    </tr>\n",
              "    <tr>\n",
              "      <th>HG01148</th>\n",
              "      <td>AMR</td>\n",
              "      <td>0110100011011010111010000110000010100010110000...</td>\n",
              "      <td>0</td>\n",
              "      <td>0</td>\n",
              "      <td>0</td>\n",
              "    </tr>\n",
              "    <tr>\n",
              "      <th>HG01366</th>\n",
              "      <td>AMR</td>\n",
              "      <td>0011100111011010111011000010000011100000110000...</td>\n",
              "      <td>0</td>\n",
              "      <td>0</td>\n",
              "      <td>0</td>\n",
              "    </tr>\n",
              "    <tr>\n",
              "      <th>HG01992</th>\n",
              "      <td>AMR</td>\n",
              "      <td>0110100011111010111011000010001011101001101010...</td>\n",
              "      <td>0</td>\n",
              "      <td>0</td>\n",
              "      <td>0</td>\n",
              "    </tr>\n",
              "    <tr>\n",
              "      <th>HG01851</th>\n",
              "      <td>EAS</td>\n",
              "      <td>0001100000011000111011000010000011000101101000...</td>\n",
              "      <td>0</td>\n",
              "      <td>0</td>\n",
              "      <td>1</td>\n",
              "    </tr>\n",
              "    <tr>\n",
              "      <th>...</th>\n",
              "      <td>...</td>\n",
              "      <td>...</td>\n",
              "      <td>...</td>\n",
              "      <td>...</td>\n",
              "      <td>...</td>\n",
              "    </tr>\n",
              "    <tr>\n",
              "      <th>HG03971</th>\n",
              "      <td>SAS</td>\n",
              "      <td>0101110011101011111000000100000010100101101000...</td>\n",
              "      <td>0</td>\n",
              "      <td>0</td>\n",
              "      <td>1</td>\n",
              "    </tr>\n",
              "    <tr>\n",
              "      <th>HG01259</th>\n",
              "      <td>AMR</td>\n",
              "      <td>0100100001111010111011100000000010100011111000...</td>\n",
              "      <td>0</td>\n",
              "      <td>0</td>\n",
              "      <td>0</td>\n",
              "    </tr>\n",
              "    <tr>\n",
              "      <th>NA19448</th>\n",
              "      <td>AFR</td>\n",
              "      <td>0010000001111010110010100110000000101100100000...</td>\n",
              "      <td>1</td>\n",
              "      <td>0</td>\n",
              "      <td>0</td>\n",
              "    </tr>\n",
              "    <tr>\n",
              "      <th>HG03016</th>\n",
              "      <td>SAS</td>\n",
              "      <td>0100100101111010111010100010000010100101111000...</td>\n",
              "      <td>0</td>\n",
              "      <td>0</td>\n",
              "      <td>1</td>\n",
              "    </tr>\n",
              "    <tr>\n",
              "      <th>NA19089</th>\n",
              "      <td>EAS</td>\n",
              "      <td>0100100010111010111011100010000011000101001000...</td>\n",
              "      <td>0</td>\n",
              "      <td>0</td>\n",
              "      <td>1</td>\n",
              "    </tr>\n",
              "  </tbody>\n",
              "</table>\n",
              "<p>1002 rows × 5 columns</p>\n",
              "</div>\n",
              "      <button class=\"colab-df-convert\" onclick=\"convertToInteractive('df-2c8e3d88-b9ab-435a-a4f1-61ef69806496')\"\n",
              "              title=\"Convert this dataframe to an interactive table.\"\n",
              "              style=\"display:none;\">\n",
              "        \n",
              "  <svg xmlns=\"http://www.w3.org/2000/svg\" height=\"24px\"viewBox=\"0 0 24 24\"\n",
              "       width=\"24px\">\n",
              "    <path d=\"M0 0h24v24H0V0z\" fill=\"none\"/>\n",
              "    <path d=\"M18.56 5.44l.94 2.06.94-2.06 2.06-.94-2.06-.94-.94-2.06-.94 2.06-2.06.94zm-11 1L8.5 8.5l.94-2.06 2.06-.94-2.06-.94L8.5 2.5l-.94 2.06-2.06.94zm10 10l.94 2.06.94-2.06 2.06-.94-2.06-.94-.94-2.06-.94 2.06-2.06.94z\"/><path d=\"M17.41 7.96l-1.37-1.37c-.4-.4-.92-.59-1.43-.59-.52 0-1.04.2-1.43.59L10.3 9.45l-7.72 7.72c-.78.78-.78 2.05 0 2.83L4 21.41c.39.39.9.59 1.41.59.51 0 1.02-.2 1.41-.59l7.78-7.78 2.81-2.81c.8-.78.8-2.07 0-2.86zM5.41 20L4 18.59l7.72-7.72 1.47 1.35L5.41 20z\"/>\n",
              "  </svg>\n",
              "      </button>\n",
              "      \n",
              "  <style>\n",
              "    .colab-df-container {\n",
              "      display:flex;\n",
              "      flex-wrap:wrap;\n",
              "      gap: 12px;\n",
              "    }\n",
              "\n",
              "    .colab-df-convert {\n",
              "      background-color: #E8F0FE;\n",
              "      border: none;\n",
              "      border-radius: 50%;\n",
              "      cursor: pointer;\n",
              "      display: none;\n",
              "      fill: #1967D2;\n",
              "      height: 32px;\n",
              "      padding: 0 0 0 0;\n",
              "      width: 32px;\n",
              "    }\n",
              "\n",
              "    .colab-df-convert:hover {\n",
              "      background-color: #E2EBFA;\n",
              "      box-shadow: 0px 1px 2px rgba(60, 64, 67, 0.3), 0px 1px 3px 1px rgba(60, 64, 67, 0.15);\n",
              "      fill: #174EA6;\n",
              "    }\n",
              "\n",
              "    [theme=dark] .colab-df-convert {\n",
              "      background-color: #3B4455;\n",
              "      fill: #D2E3FC;\n",
              "    }\n",
              "\n",
              "    [theme=dark] .colab-df-convert:hover {\n",
              "      background-color: #434B5C;\n",
              "      box-shadow: 0px 1px 3px 1px rgba(0, 0, 0, 0.15);\n",
              "      filter: drop-shadow(0px 1px 2px rgba(0, 0, 0, 0.3));\n",
              "      fill: #FFFFFF;\n",
              "    }\n",
              "  </style>\n",
              "\n",
              "      <script>\n",
              "        const buttonEl =\n",
              "          document.querySelector('#df-2c8e3d88-b9ab-435a-a4f1-61ef69806496 button.colab-df-convert');\n",
              "        buttonEl.style.display =\n",
              "          google.colab.kernel.accessAllowed ? 'block' : 'none';\n",
              "\n",
              "        async function convertToInteractive(key) {\n",
              "          const element = document.querySelector('#df-2c8e3d88-b9ab-435a-a4f1-61ef69806496');\n",
              "          const dataTable =\n",
              "            await google.colab.kernel.invokeFunction('convertToInteractive',\n",
              "                                                     [key], {});\n",
              "          if (!dataTable) return;\n",
              "\n",
              "          const docLinkHtml = 'Like what you see? Visit the ' +\n",
              "            '<a target=\"_blank\" href=https://colab.research.google.com/notebooks/data_table.ipynb>data table notebook</a>'\n",
              "            + ' to learn more about interactive tables.';\n",
              "          element.innerHTML = '';\n",
              "          dataTable['output_type'] = 'display_data';\n",
              "          await google.colab.output.renderOutput(dataTable, element);\n",
              "          const docLink = document.createElement('div');\n",
              "          docLink.innerHTML = docLinkHtml;\n",
              "          element.appendChild(docLink);\n",
              "        }\n",
              "      </script>\n",
              "    </div>\n",
              "  </div>\n",
              "  "
            ]
          },
          "metadata": {},
          "execution_count": 161
        }
      ]
    },
    {
      "cell_type": "code",
      "source": [
        "print(main_df['ASIAN'].sum(),\n",
        "main_df['AFR'].sum(),\n",
        "main_df['EUR'].sum())"
      ],
      "metadata": {
        "colab": {
          "base_uri": "https://localhost:8080/"
        },
        "id": "pHs7_Jq61SAW",
        "outputId": "473a6e75-553f-41be-c105-f4aa95f77d56"
      },
      "execution_count": 182,
      "outputs": [
        {
          "output_type": "stream",
          "name": "stdout",
          "text": [
            "993 661 503\n"
          ]
        }
      ]
    },
    {
      "cell_type": "code",
      "execution_count": 125,
      "metadata": {
        "id": "USrNt5TRud0K",
        "outputId": "90028ee6-0b03-4b96-d8fb-5ec595bc0250",
        "colab": {
          "base_uri": "https://localhost:8080/",
          "height": 35
        }
      },
      "outputs": [
        {
          "output_type": "execute_result",
          "data": {
            "text/plain": [
              "'0'"
            ],
            "application/vnd.google.colaboratory.intrinsic+json": {
              "type": "string"
            }
          },
          "metadata": {},
          "execution_count": 125
        }
      ],
      "source": [
        "#main_df.xs('EUR',level='Superpopulation Code')\n",
        "main_df.iloc[main_df.index.get_loc('NA19681')][1]\n",
        "# main_df.index.names\n",
        "#spp_code_main_df\n",
        "#patients_main_df[:5]"
      ]
    },
    {
      "cell_type": "code",
      "execution_count": null,
      "metadata": {
        "id": "hqdbeibcud0K"
      },
      "outputs": [],
      "source": [
        "main_df\n",
        "ancestry_freq=main_df.index.get_level_values('Superpopulation Code').value_counts()//10028\n",
        "ancestry_freq"
      ]
    },
    {
      "cell_type": "code",
      "execution_count": 27,
      "metadata": {
        "id": "fJb7qUisud0L",
        "outputId": "8c937a79-bc84-42e9-f71f-0fffb389ef87",
        "colab": {
          "base_uri": "https://localhost:8080/"
        }
      },
      "outputs": [
        {
          "output_type": "execute_result",
          "data": {
            "text/plain": [
              "['SAS', 'AMR', 'EAS', 'AFR', 'EUR']"
            ]
          },
          "metadata": {},
          "execution_count": 27
        }
      ],
      "source": [
        "list(main_df.index.get_level_values('Superpopulation Code').unique())"
      ]
    },
    {
      "cell_type": "code",
      "execution_count": 184,
      "metadata": {
        "id": "tBW5rugbud0M"
      },
      "outputs": [],
      "source": [
        "#Saving the datafram into a CSV file at Google Drive\n",
        "main_df.to_csv('drive/MyDrive/Amphora/main_df_100%_seq.csv', index=True)\n",
        "df_without_index = pd.read_csv('drive/MyDrive/Amphora/main_df_100%_seq.csv')\n",
        "df_without_index\n",
        "main_df = df_without_index\n",
        "#main_df.set_index()"
      ]
    },
    {
      "cell_type": "code",
      "source": [
        "main_df"
      ],
      "metadata": {
        "colab": {
          "base_uri": "https://localhost:8080/",
          "height": 424
        },
        "id": "cA4pnHktWNXe",
        "outputId": "00687118-15ca-4bb5-c64c-0c78c6120e73"
      },
      "execution_count": 185,
      "outputs": [
        {
          "output_type": "execute_result",
          "data": {
            "text/plain": [
              "      Patient SPP_code                                           Sequence  \\\n",
              "0     NA20876      SAS  0000101011011010111011100010000010100011101000...   \n",
              "1     HG01148      AMR  0110100011011010111010000110000010100010110000...   \n",
              "2     HG01366      AMR  0011100111011010111011000010000011100000110000...   \n",
              "3     HG01992      AMR  0110100011111010111011000010001011101001101010...   \n",
              "4     HG01851      EAS  0001100000011000111011000010000011000101101000...   \n",
              "...       ...      ...                                                ...   \n",
              "2499  NA20901      SAS  0101110011011010110001100110000011110111111000...   \n",
              "2500  HG02861      AFR  0011100001111110101000100110000011001011110000...   \n",
              "2501  NA18637      EAS  0100100000011000111011000010000001000101101000...   \n",
              "2502  HG03809      SAS  0101110011001010111011100010000011110011111000...   \n",
              "2503  NA18557      EAS  0000100010101000011011100010000001000011100010...   \n",
              "\n",
              "      AFR  EUR  ASIAN  \n",
              "0       0    0      1  \n",
              "1       0    0      0  \n",
              "2       0    0      0  \n",
              "3       0    0      0  \n",
              "4       0    0      1  \n",
              "...   ...  ...    ...  \n",
              "2499    0    0      1  \n",
              "2500    1    0      0  \n",
              "2501    0    0      1  \n",
              "2502    0    0      1  \n",
              "2503    0    0      1  \n",
              "\n",
              "[2504 rows x 6 columns]"
            ],
            "text/html": [
              "\n",
              "  <div id=\"df-321e9c71-e36e-4eed-b8f0-57c3c649c01e\">\n",
              "    <div class=\"colab-df-container\">\n",
              "      <div>\n",
              "<style scoped>\n",
              "    .dataframe tbody tr th:only-of-type {\n",
              "        vertical-align: middle;\n",
              "    }\n",
              "\n",
              "    .dataframe tbody tr th {\n",
              "        vertical-align: top;\n",
              "    }\n",
              "\n",
              "    .dataframe thead th {\n",
              "        text-align: right;\n",
              "    }\n",
              "</style>\n",
              "<table border=\"1\" class=\"dataframe\">\n",
              "  <thead>\n",
              "    <tr style=\"text-align: right;\">\n",
              "      <th></th>\n",
              "      <th>Patient</th>\n",
              "      <th>SPP_code</th>\n",
              "      <th>Sequence</th>\n",
              "      <th>AFR</th>\n",
              "      <th>EUR</th>\n",
              "      <th>ASIAN</th>\n",
              "    </tr>\n",
              "  </thead>\n",
              "  <tbody>\n",
              "    <tr>\n",
              "      <th>0</th>\n",
              "      <td>NA20876</td>\n",
              "      <td>SAS</td>\n",
              "      <td>0000101011011010111011100010000010100011101000...</td>\n",
              "      <td>0</td>\n",
              "      <td>0</td>\n",
              "      <td>1</td>\n",
              "    </tr>\n",
              "    <tr>\n",
              "      <th>1</th>\n",
              "      <td>HG01148</td>\n",
              "      <td>AMR</td>\n",
              "      <td>0110100011011010111010000110000010100010110000...</td>\n",
              "      <td>0</td>\n",
              "      <td>0</td>\n",
              "      <td>0</td>\n",
              "    </tr>\n",
              "    <tr>\n",
              "      <th>2</th>\n",
              "      <td>HG01366</td>\n",
              "      <td>AMR</td>\n",
              "      <td>0011100111011010111011000010000011100000110000...</td>\n",
              "      <td>0</td>\n",
              "      <td>0</td>\n",
              "      <td>0</td>\n",
              "    </tr>\n",
              "    <tr>\n",
              "      <th>3</th>\n",
              "      <td>HG01992</td>\n",
              "      <td>AMR</td>\n",
              "      <td>0110100011111010111011000010001011101001101010...</td>\n",
              "      <td>0</td>\n",
              "      <td>0</td>\n",
              "      <td>0</td>\n",
              "    </tr>\n",
              "    <tr>\n",
              "      <th>4</th>\n",
              "      <td>HG01851</td>\n",
              "      <td>EAS</td>\n",
              "      <td>0001100000011000111011000010000011000101101000...</td>\n",
              "      <td>0</td>\n",
              "      <td>0</td>\n",
              "      <td>1</td>\n",
              "    </tr>\n",
              "    <tr>\n",
              "      <th>...</th>\n",
              "      <td>...</td>\n",
              "      <td>...</td>\n",
              "      <td>...</td>\n",
              "      <td>...</td>\n",
              "      <td>...</td>\n",
              "      <td>...</td>\n",
              "    </tr>\n",
              "    <tr>\n",
              "      <th>2499</th>\n",
              "      <td>NA20901</td>\n",
              "      <td>SAS</td>\n",
              "      <td>0101110011011010110001100110000011110111111000...</td>\n",
              "      <td>0</td>\n",
              "      <td>0</td>\n",
              "      <td>1</td>\n",
              "    </tr>\n",
              "    <tr>\n",
              "      <th>2500</th>\n",
              "      <td>HG02861</td>\n",
              "      <td>AFR</td>\n",
              "      <td>0011100001111110101000100110000011001011110000...</td>\n",
              "      <td>1</td>\n",
              "      <td>0</td>\n",
              "      <td>0</td>\n",
              "    </tr>\n",
              "    <tr>\n",
              "      <th>2501</th>\n",
              "      <td>NA18637</td>\n",
              "      <td>EAS</td>\n",
              "      <td>0100100000011000111011000010000001000101101000...</td>\n",
              "      <td>0</td>\n",
              "      <td>0</td>\n",
              "      <td>1</td>\n",
              "    </tr>\n",
              "    <tr>\n",
              "      <th>2502</th>\n",
              "      <td>HG03809</td>\n",
              "      <td>SAS</td>\n",
              "      <td>0101110011001010111011100010000011110011111000...</td>\n",
              "      <td>0</td>\n",
              "      <td>0</td>\n",
              "      <td>1</td>\n",
              "    </tr>\n",
              "    <tr>\n",
              "      <th>2503</th>\n",
              "      <td>NA18557</td>\n",
              "      <td>EAS</td>\n",
              "      <td>0000100010101000011011100010000001000011100010...</td>\n",
              "      <td>0</td>\n",
              "      <td>0</td>\n",
              "      <td>1</td>\n",
              "    </tr>\n",
              "  </tbody>\n",
              "</table>\n",
              "<p>2504 rows × 6 columns</p>\n",
              "</div>\n",
              "      <button class=\"colab-df-convert\" onclick=\"convertToInteractive('df-321e9c71-e36e-4eed-b8f0-57c3c649c01e')\"\n",
              "              title=\"Convert this dataframe to an interactive table.\"\n",
              "              style=\"display:none;\">\n",
              "        \n",
              "  <svg xmlns=\"http://www.w3.org/2000/svg\" height=\"24px\"viewBox=\"0 0 24 24\"\n",
              "       width=\"24px\">\n",
              "    <path d=\"M0 0h24v24H0V0z\" fill=\"none\"/>\n",
              "    <path d=\"M18.56 5.44l.94 2.06.94-2.06 2.06-.94-2.06-.94-.94-2.06-.94 2.06-2.06.94zm-11 1L8.5 8.5l.94-2.06 2.06-.94-2.06-.94L8.5 2.5l-.94 2.06-2.06.94zm10 10l.94 2.06.94-2.06 2.06-.94-2.06-.94-.94-2.06-.94 2.06-2.06.94z\"/><path d=\"M17.41 7.96l-1.37-1.37c-.4-.4-.92-.59-1.43-.59-.52 0-1.04.2-1.43.59L10.3 9.45l-7.72 7.72c-.78.78-.78 2.05 0 2.83L4 21.41c.39.39.9.59 1.41.59.51 0 1.02-.2 1.41-.59l7.78-7.78 2.81-2.81c.8-.78.8-2.07 0-2.86zM5.41 20L4 18.59l7.72-7.72 1.47 1.35L5.41 20z\"/>\n",
              "  </svg>\n",
              "      </button>\n",
              "      \n",
              "  <style>\n",
              "    .colab-df-container {\n",
              "      display:flex;\n",
              "      flex-wrap:wrap;\n",
              "      gap: 12px;\n",
              "    }\n",
              "\n",
              "    .colab-df-convert {\n",
              "      background-color: #E8F0FE;\n",
              "      border: none;\n",
              "      border-radius: 50%;\n",
              "      cursor: pointer;\n",
              "      display: none;\n",
              "      fill: #1967D2;\n",
              "      height: 32px;\n",
              "      padding: 0 0 0 0;\n",
              "      width: 32px;\n",
              "    }\n",
              "\n",
              "    .colab-df-convert:hover {\n",
              "      background-color: #E2EBFA;\n",
              "      box-shadow: 0px 1px 2px rgba(60, 64, 67, 0.3), 0px 1px 3px 1px rgba(60, 64, 67, 0.15);\n",
              "      fill: #174EA6;\n",
              "    }\n",
              "\n",
              "    [theme=dark] .colab-df-convert {\n",
              "      background-color: #3B4455;\n",
              "      fill: #D2E3FC;\n",
              "    }\n",
              "\n",
              "    [theme=dark] .colab-df-convert:hover {\n",
              "      background-color: #434B5C;\n",
              "      box-shadow: 0px 1px 3px 1px rgba(0, 0, 0, 0.15);\n",
              "      filter: drop-shadow(0px 1px 2px rgba(0, 0, 0, 0.3));\n",
              "      fill: #FFFFFF;\n",
              "    }\n",
              "  </style>\n",
              "\n",
              "      <script>\n",
              "        const buttonEl =\n",
              "          document.querySelector('#df-321e9c71-e36e-4eed-b8f0-57c3c649c01e button.colab-df-convert');\n",
              "        buttonEl.style.display =\n",
              "          google.colab.kernel.accessAllowed ? 'block' : 'none';\n",
              "\n",
              "        async function convertToInteractive(key) {\n",
              "          const element = document.querySelector('#df-321e9c71-e36e-4eed-b8f0-57c3c649c01e');\n",
              "          const dataTable =\n",
              "            await google.colab.kernel.invokeFunction('convertToInteractive',\n",
              "                                                     [key], {});\n",
              "          if (!dataTable) return;\n",
              "\n",
              "          const docLinkHtml = 'Like what you see? Visit the ' +\n",
              "            '<a target=\"_blank\" href=https://colab.research.google.com/notebooks/data_table.ipynb>data table notebook</a>'\n",
              "            + ' to learn more about interactive tables.';\n",
              "          element.innerHTML = '';\n",
              "          dataTable['output_type'] = 'display_data';\n",
              "          await google.colab.output.renderOutput(dataTable, element);\n",
              "          const docLink = document.createElement('div');\n",
              "          docLink.innerHTML = docLinkHtml;\n",
              "          element.appendChild(docLink);\n",
              "        }\n",
              "      </script>\n",
              "    </div>\n",
              "  </div>\n",
              "  "
            ]
          },
          "metadata": {},
          "execution_count": 185
        }
      ]
    },
    {
      "cell_type": "markdown",
      "metadata": {
        "id": "lnzZTfzAud0O"
      },
      "source": [
        "## Here starts the section of training the model"
      ]
    },
    {
      "cell_type": "code",
      "execution_count": 186,
      "metadata": {
        "id": "Ka6qzuz_ud0O"
      },
      "outputs": [],
      "source": [
        "from sklearn.model_selection import train_test_split\n",
        "import numpy as np\n"
      ]
    },
    {
      "cell_type": "markdown",
      "metadata": {
        "id": "L1cHe9zVud0T"
      },
      "source": [
        "##**European ancestry KNN** "
      ]
    },
    {
      "cell_type": "code",
      "source": [
        "#Using Skicit-learn to split data into training and testing sets\n",
        "from sklearn.model_selection import train_test_split\n",
        "from sklearn.preprocessing import OneHotEncoder\n",
        "from sklearn.model_selection import cross_val_score\n",
        "import numpy as np"
      ],
      "metadata": {
        "id": "SMCKdfWWjxRA"
      },
      "execution_count": 208,
      "outputs": []
    },
    {
      "cell_type": "code",
      "execution_count": 189,
      "metadata": {
        "id": "FIPOW9Rbud0U",
        "outputId": "3c8beb12-87c6-4c8e-c93f-81dc53bdbfe5",
        "colab": {
          "base_uri": "https://localhost:8080/",
          "height": 455
        }
      },
      "outputs": [
        {
          "output_type": "execute_result",
          "data": {
            "text/plain": [
              "        SPP_code                                           Sequence  EUR\n",
              "Patient                                                                 \n",
              "NA20876      SAS  0000101011011010111011100010000010100011101000...    0\n",
              "HG01148      AMR  0110100011011010111010000110000010100010110000...    0\n",
              "HG01366      AMR  0011100111011010111011000010000011100000110000...    0\n",
              "HG01992      AMR  0110100011111010111011000010001011101001101010...    0\n",
              "HG01851      EAS  0001100000011000111011000010000011000101101000...    0\n",
              "...          ...                                                ...  ...\n",
              "NA20901      SAS  0101110011011010110001100110000011110111111000...    0\n",
              "HG02861      AFR  0011100001111110101000100110000011001011110000...    0\n",
              "NA18637      EAS  0100100000011000111011000010000001000101101000...    0\n",
              "HG03809      SAS  0101110011001010111011100010000011110011111000...    0\n",
              "NA18557      EAS  0000100010101000011011100010000001000011100010...    0\n",
              "\n",
              "[2504 rows x 3 columns]"
            ],
            "text/html": [
              "\n",
              "  <div id=\"df-47788913-a4da-46eb-8341-73b2071f0ed7\">\n",
              "    <div class=\"colab-df-container\">\n",
              "      <div>\n",
              "<style scoped>\n",
              "    .dataframe tbody tr th:only-of-type {\n",
              "        vertical-align: middle;\n",
              "    }\n",
              "\n",
              "    .dataframe tbody tr th {\n",
              "        vertical-align: top;\n",
              "    }\n",
              "\n",
              "    .dataframe thead th {\n",
              "        text-align: right;\n",
              "    }\n",
              "</style>\n",
              "<table border=\"1\" class=\"dataframe\">\n",
              "  <thead>\n",
              "    <tr style=\"text-align: right;\">\n",
              "      <th></th>\n",
              "      <th>SPP_code</th>\n",
              "      <th>Sequence</th>\n",
              "      <th>EUR</th>\n",
              "    </tr>\n",
              "    <tr>\n",
              "      <th>Patient</th>\n",
              "      <th></th>\n",
              "      <th></th>\n",
              "      <th></th>\n",
              "    </tr>\n",
              "  </thead>\n",
              "  <tbody>\n",
              "    <tr>\n",
              "      <th>NA20876</th>\n",
              "      <td>SAS</td>\n",
              "      <td>0000101011011010111011100010000010100011101000...</td>\n",
              "      <td>0</td>\n",
              "    </tr>\n",
              "    <tr>\n",
              "      <th>HG01148</th>\n",
              "      <td>AMR</td>\n",
              "      <td>0110100011011010111010000110000010100010110000...</td>\n",
              "      <td>0</td>\n",
              "    </tr>\n",
              "    <tr>\n",
              "      <th>HG01366</th>\n",
              "      <td>AMR</td>\n",
              "      <td>0011100111011010111011000010000011100000110000...</td>\n",
              "      <td>0</td>\n",
              "    </tr>\n",
              "    <tr>\n",
              "      <th>HG01992</th>\n",
              "      <td>AMR</td>\n",
              "      <td>0110100011111010111011000010001011101001101010...</td>\n",
              "      <td>0</td>\n",
              "    </tr>\n",
              "    <tr>\n",
              "      <th>HG01851</th>\n",
              "      <td>EAS</td>\n",
              "      <td>0001100000011000111011000010000011000101101000...</td>\n",
              "      <td>0</td>\n",
              "    </tr>\n",
              "    <tr>\n",
              "      <th>...</th>\n",
              "      <td>...</td>\n",
              "      <td>...</td>\n",
              "      <td>...</td>\n",
              "    </tr>\n",
              "    <tr>\n",
              "      <th>NA20901</th>\n",
              "      <td>SAS</td>\n",
              "      <td>0101110011011010110001100110000011110111111000...</td>\n",
              "      <td>0</td>\n",
              "    </tr>\n",
              "    <tr>\n",
              "      <th>HG02861</th>\n",
              "      <td>AFR</td>\n",
              "      <td>0011100001111110101000100110000011001011110000...</td>\n",
              "      <td>0</td>\n",
              "    </tr>\n",
              "    <tr>\n",
              "      <th>NA18637</th>\n",
              "      <td>EAS</td>\n",
              "      <td>0100100000011000111011000010000001000101101000...</td>\n",
              "      <td>0</td>\n",
              "    </tr>\n",
              "    <tr>\n",
              "      <th>HG03809</th>\n",
              "      <td>SAS</td>\n",
              "      <td>0101110011001010111011100010000011110011111000...</td>\n",
              "      <td>0</td>\n",
              "    </tr>\n",
              "    <tr>\n",
              "      <th>NA18557</th>\n",
              "      <td>EAS</td>\n",
              "      <td>0000100010101000011011100010000001000011100010...</td>\n",
              "      <td>0</td>\n",
              "    </tr>\n",
              "  </tbody>\n",
              "</table>\n",
              "<p>2504 rows × 3 columns</p>\n",
              "</div>\n",
              "      <button class=\"colab-df-convert\" onclick=\"convertToInteractive('df-47788913-a4da-46eb-8341-73b2071f0ed7')\"\n",
              "              title=\"Convert this dataframe to an interactive table.\"\n",
              "              style=\"display:none;\">\n",
              "        \n",
              "  <svg xmlns=\"http://www.w3.org/2000/svg\" height=\"24px\"viewBox=\"0 0 24 24\"\n",
              "       width=\"24px\">\n",
              "    <path d=\"M0 0h24v24H0V0z\" fill=\"none\"/>\n",
              "    <path d=\"M18.56 5.44l.94 2.06.94-2.06 2.06-.94-2.06-.94-.94-2.06-.94 2.06-2.06.94zm-11 1L8.5 8.5l.94-2.06 2.06-.94-2.06-.94L8.5 2.5l-.94 2.06-2.06.94zm10 10l.94 2.06.94-2.06 2.06-.94-2.06-.94-.94-2.06-.94 2.06-2.06.94z\"/><path d=\"M17.41 7.96l-1.37-1.37c-.4-.4-.92-.59-1.43-.59-.52 0-1.04.2-1.43.59L10.3 9.45l-7.72 7.72c-.78.78-.78 2.05 0 2.83L4 21.41c.39.39.9.59 1.41.59.51 0 1.02-.2 1.41-.59l7.78-7.78 2.81-2.81c.8-.78.8-2.07 0-2.86zM5.41 20L4 18.59l7.72-7.72 1.47 1.35L5.41 20z\"/>\n",
              "  </svg>\n",
              "      </button>\n",
              "      \n",
              "  <style>\n",
              "    .colab-df-container {\n",
              "      display:flex;\n",
              "      flex-wrap:wrap;\n",
              "      gap: 12px;\n",
              "    }\n",
              "\n",
              "    .colab-df-convert {\n",
              "      background-color: #E8F0FE;\n",
              "      border: none;\n",
              "      border-radius: 50%;\n",
              "      cursor: pointer;\n",
              "      display: none;\n",
              "      fill: #1967D2;\n",
              "      height: 32px;\n",
              "      padding: 0 0 0 0;\n",
              "      width: 32px;\n",
              "    }\n",
              "\n",
              "    .colab-df-convert:hover {\n",
              "      background-color: #E2EBFA;\n",
              "      box-shadow: 0px 1px 2px rgba(60, 64, 67, 0.3), 0px 1px 3px 1px rgba(60, 64, 67, 0.15);\n",
              "      fill: #174EA6;\n",
              "    }\n",
              "\n",
              "    [theme=dark] .colab-df-convert {\n",
              "      background-color: #3B4455;\n",
              "      fill: #D2E3FC;\n",
              "    }\n",
              "\n",
              "    [theme=dark] .colab-df-convert:hover {\n",
              "      background-color: #434B5C;\n",
              "      box-shadow: 0px 1px 3px 1px rgba(0, 0, 0, 0.15);\n",
              "      filter: drop-shadow(0px 1px 2px rgba(0, 0, 0, 0.3));\n",
              "      fill: #FFFFFF;\n",
              "    }\n",
              "  </style>\n",
              "\n",
              "      <script>\n",
              "        const buttonEl =\n",
              "          document.querySelector('#df-47788913-a4da-46eb-8341-73b2071f0ed7 button.colab-df-convert');\n",
              "        buttonEl.style.display =\n",
              "          google.colab.kernel.accessAllowed ? 'block' : 'none';\n",
              "\n",
              "        async function convertToInteractive(key) {\n",
              "          const element = document.querySelector('#df-47788913-a4da-46eb-8341-73b2071f0ed7');\n",
              "          const dataTable =\n",
              "            await google.colab.kernel.invokeFunction('convertToInteractive',\n",
              "                                                     [key], {});\n",
              "          if (!dataTable) return;\n",
              "\n",
              "          const docLinkHtml = 'Like what you see? Visit the ' +\n",
              "            '<a target=\"_blank\" href=https://colab.research.google.com/notebooks/data_table.ipynb>data table notebook</a>'\n",
              "            + ' to learn more about interactive tables.';\n",
              "          element.innerHTML = '';\n",
              "          dataTable['output_type'] = 'display_data';\n",
              "          await google.colab.output.renderOutput(dataTable, element);\n",
              "          const docLink = document.createElement('div');\n",
              "          docLink.innerHTML = docLinkHtml;\n",
              "          element.appendChild(docLink);\n",
              "        }\n",
              "      </script>\n",
              "    </div>\n",
              "  </div>\n",
              "  "
            ]
          },
          "metadata": {},
          "execution_count": 189
        }
      ],
      "source": [
        "#drop the ancestries we are not going to predict\n",
        "df_eur = main_df.drop(['ASIAN', 'AFR'], axis=1)\n",
        "\n",
        "#df_eur = df_eur[df_eur['EUR']==1]\n",
        "\n",
        "df_eur.set_index(['Patient'],inplace=True)\n",
        "#df_eur\n",
        "#len((set(df_eur.index.get_level_values('Patient'))))\n",
        "patients_eur_df=list(set(df_eur.index.get_level_values('Patient')))\n",
        "#len(patients_eur_df)\n",
        "\n",
        "df_eur"
      ]
    },
    {
      "cell_type": "code",
      "source": [
        "# Import LabelEncoder\n",
        "from sklearn import preprocessing\n",
        "#creating labelEncoder\n",
        "le = preprocessing.LabelEncoder()\n",
        "# Converting string labels into numbers.\n",
        "seq_encoded=le.fit_transform(df_eur['Sequence'])\n",
        "\n",
        "print(set(list(seq_encoded)))\n",
        "type(seq_encoded)\n",
        "list(le.classes_)"
      ],
      "metadata": {
        "id": "1phhfAz_Oxze"
      },
      "execution_count": null,
      "outputs": []
    },
    {
      "cell_type": "code",
      "execution_count": null,
      "metadata": {
        "id": "0HhrZ8Imud0U"
      },
      "outputs": [],
      "source": [
        "x= seq_encoded\n",
        "x1D = seq_encoded\n",
        "x = x.reshape(-1, 1)\n",
        "y = df_eur[['EUR']]\n",
        "y = y.values\n",
        "\n",
        "\n",
        "X_train, X_test, y_train, y_test = train_test_split(x, y, test_size=0.2, train_size=0.8,random_state=1)\n",
        "#X_train.sort_values(by='Patient')\n",
        "y_test\n",
        "\n",
        "\n"
      ]
    },
    {
      "cell_type": "code",
      "source": [
        "from sklearn.neighbors import KNeighborsClassifier\n",
        "#model not for CV\n",
        "knn_model = KNeighborsClassifier(n_neighbors=2)\n",
        "\n",
        "#create a new KNN model for CV\n",
        "knn_cv = KNeighborsClassifier(n_neighbors=2)\n",
        "cv_scores = cross_val_score(knn_cv, X_train,np.ravel(y_train), cv=10,scoring='accuracy')\n",
        "\n",
        "#training the model\n",
        "knn_model.fit(X_train,np.ravel(y_train))\n",
        "\n",
        "# Use the knn_model's predict method on the test data\n",
        "y_pred = knn_model.predict(X_test)\n",
        "y_pred\n",
        "\n",
        "# print the first 10 predicted probabilities of class membership\n",
        "y_pred_prob=knn_model.predict_proba(X_test)\n",
        "print(\"Predicted probabilities\",len(y_pred_prob))"
      ],
      "metadata": {
        "colab": {
          "base_uri": "https://localhost:8080/"
        },
        "id": "lZrtMSa2sI9h",
        "outputId": "8b4bbda5-089b-425b-ba9f-3e2568c81a91"
      },
      "execution_count": 230,
      "outputs": [
        {
          "output_type": "stream",
          "name": "stdout",
          "text": [
            "Predicted probabilities 501\n"
          ]
        }
      ]
    },
    {
      "cell_type": "code",
      "execution_count": 225,
      "metadata": {
        "id": "2H2vhwVtud0V",
        "outputId": "513d99e6-c0ff-4c24-addb-55371a6c30ab",
        "colab": {
          "base_uri": "https://localhost:8080/"
        }
      },
      "outputs": [
        {
          "output_type": "stream",
          "name": "stdout",
          "text": [
            "Accuracy: 0.7904191616766467\n",
            "Precision: 0.5405405405405406\n",
            "Recall: 0.18518518518518517\n",
            "Predicted probabilities [[0.5 0.5]\n",
            " [1.  0. ]\n",
            " [1.  0. ]\n",
            " [0.5 0.5]\n",
            " [1.  0. ]\n",
            " [1.  0. ]\n",
            " [1.  0. ]\n",
            " [0.5 0.5]\n",
            " [0.  1. ]\n",
            " [1.  0. ]]\n",
            "Acuracy cv_scores mean:0.8002835820895522\n"
          ]
        }
      ],
      "source": [
        "#Import scikit-learn metrics module for accuracy calculation\n",
        "from sklearn import metrics\n",
        "# Use the forest's predict method on the test data\n",
        "\n",
        "# Model Accuracy: how often is the classifier correct?\n",
        "print(\"Accuracy:\",metrics.accuracy_score(y_test, y_pred))\n",
        "\n",
        "# Model Precision: what percentage of positive tuples are labeled as such?\n",
        "print(\"Precision:\",metrics.precision_score(y_test, y_pred))\n",
        "\n",
        "# Model Recall: what percentage of positive tuples are labelled as such?\n",
        "print(\"Recall:\",metrics.recall_score(y_test, y_pred))\n",
        "#print each cv score (accuracy) and average them\n",
        "#print(cv_scores)\n",
        "\n",
        "print('Acuracy cv_scores mean:{}'.format(np.mean(cv_scores)))"
      ]
    },
    {
      "cell_type": "code",
      "execution_count": 205,
      "metadata": {
        "id": "E9CCwbQvud0W",
        "outputId": "2c10183a-f2b3-45cf-a444-cd5210e303cd",
        "colab": {
          "base_uri": "https://localhost:8080/"
        }
      },
      "outputs": [
        {
          "output_type": "stream",
          "name": "stdout",
          "text": [
            "[[376  17]\n",
            " [ 88  20]]\n"
          ]
        }
      ],
      "source": [
        "#IMPORTANT: first argument is true values, second argument is predicted values\n",
        "# this produces a 2x2 numpy array (matrix)\n",
        "print(metrics.confusion_matrix(y_test, y_pred))"
      ]
    },
    {
      "cell_type": "code",
      "execution_count": 195,
      "metadata": {
        "id": "UGJvWLu8ud0W",
        "outputId": "528b3750-1f06-49d0-ce64-274173d91588",
        "colab": {
          "base_uri": "https://localhost:8080/"
        }
      },
      "outputs": [
        {
          "output_type": "stream",
          "name": "stdout",
          "text": [
            "[[376  17]\n",
            " [ 88  20]]\n"
          ]
        }
      ],
      "source": [
        "confusion = metrics.confusion_matrix(y_test, y_pred)\n",
        "print(confusion)\n",
        "#[row, column]\n",
        "TP = confusion[1, 1]\n",
        "TN = confusion[0, 0]\n",
        "FP = confusion[0, 1]\n",
        "FN = confusion[1, 0]"
      ]
    },
    {
      "cell_type": "code",
      "execution_count": 196,
      "metadata": {
        "id": "lNYz8bBGud0W",
        "outputId": "cecd64a4-d5b2-40f8-e7d7-448db65795b6",
        "colab": {
          "base_uri": "https://localhost:8080/"
        }
      },
      "outputs": [
        {
          "output_type": "stream",
          "name": "stdout",
          "text": [
            "0.7904191616766467\n",
            "0.7904191616766467\n"
          ]
        }
      ],
      "source": [
        "# use float to perform true division, not integer division\n",
        "print((TP + TN) / float(TP + TN + FP + FN))\n",
        "print(metrics.accuracy_score(y_test, y_pred))"
      ]
    },
    {
      "cell_type": "code",
      "execution_count": 197,
      "metadata": {
        "id": "YVbysAhkud0W",
        "outputId": "032d674e-a47b-48ad-904c-82b4e2a0dda6",
        "colab": {
          "base_uri": "https://localhost:8080/"
        }
      },
      "outputs": [
        {
          "output_type": "stream",
          "name": "stdout",
          "text": [
            "0.18518518518518517\n",
            "0.18518518518518517\n"
          ]
        }
      ],
      "source": [
        "#Sensitivity: When the actual value is positive, how often is the prediction correct?\n",
        "sensitivity = TP / float(FN + TP)\n",
        "print(sensitivity)\n",
        "print(metrics.recall_score(y_test, y_pred))"
      ]
    },
    {
      "cell_type": "code",
      "execution_count": 198,
      "metadata": {
        "id": "4KyfSqJ3ud0X",
        "outputId": "39ceb83c-62a8-4a69-9efa-061836dac4f1",
        "colab": {
          "base_uri": "https://localhost:8080/"
        }
      },
      "outputs": [
        {
          "output_type": "stream",
          "name": "stdout",
          "text": [
            "0.5405405405405406\n",
            "0.5405405405405406\n"
          ]
        }
      ],
      "source": [
        "precision = TP / float(TP + FP)\n",
        "\n",
        "print(precision)\n",
        "print(metrics.precision_score(y_test, y_pred))"
      ]
    },
    {
      "cell_type": "code",
      "source": [
        "#AUC\n",
        "\n",
        "# IMPORTANT: first argument is true values, second argument is predicted probabilities\n",
        "#print(metrics.roc_auc_score(y_test, y_pred_prob))\n",
        "\n",
        "print(\"cross-validated AUC: \",cross_val_score(knn_cv, X_train,np.ravel(y_train), cv=10,scoring='roc_auc').mean())\n"
      ],
      "metadata": {
        "colab": {
          "base_uri": "https://localhost:8080/"
        },
        "id": "tkrqljUdEpg1",
        "outputId": "e56aa5ff-f5de-4c83-b3ec-5fc21b1c2b65"
      },
      "execution_count": 251,
      "outputs": [
        {
          "output_type": "stream",
          "name": "stdout",
          "text": [
            "cross-validated AUC:  0.7024313883580188\n"
          ]
        }
      ]
    },
    {
      "cell_type": "markdown",
      "source": [
        "## **African ancestry logistic**"
      ],
      "metadata": {
        "id": "flUF-8R0CVQ2"
      }
    },
    {
      "cell_type": "code",
      "source": [
        ""
      ],
      "metadata": {
        "id": "mNAcfwikC-v4"
      },
      "execution_count": null,
      "outputs": []
    }
  ],
  "metadata": {
    "interpreter": {
      "hash": "6e12b99451188a96fe4605eb4c7ee05ee6f8d2932d13829995f682fb642b4e94"
    },
    "kernelspec": {
      "display_name": "Python 3",
      "language": "python",
      "name": "python3"
    },
    "language_info": {
      "codemirror_mode": {
        "name": "ipython",
        "version": 3
      },
      "file_extension": ".py",
      "mimetype": "text/x-python",
      "name": "python",
      "nbconvert_exporter": "python",
      "pygments_lexer": "ipython3",
      "version": "3.7.13"
    },
    "colab": {
      "name": "Copia de main4.ipynb",
      "provenance": [],
      "collapsed_sections": [],
      "include_colab_link": true
    }
  },
  "nbformat": 4,
  "nbformat_minor": 0
}