{
 "cells": [
  {
   "cell_type": "markdown",
   "metadata": {},
   "source": [
    "\n",
    "## AMPHORA CHALLENGE\n",
    "### By María José Carbajal Alonso"
   ]
  },
  {
   "cell_type": "markdown",
   "metadata": {},
   "source": [
    "* Import libraries"
   ]
  },
  {
   "cell_type": "code",
   "execution_count": 1,
   "metadata": {},
   "outputs": [],
   "source": [
    "import pandas as pd #to manipulate dataframes\n",
    "import numpy as np #to manipulate matrixes\n",
    "\n",
    "#these are for google collab\n",
    "#from google.colab import drive\n",
    "#drive.mount('/content/drive')"
   ]
  },
  {
   "cell_type": "markdown",
   "metadata": {},
   "source": [
    "*  We are going to get 2 dataframes, one for the patiens \"name\" and other for the superpopulation code"
   ]
  },
  {
   "cell_type": "code",
   "execution_count": 42,
   "metadata": {},
   "outputs": [
    {
     "data": {
      "text/html": [
       "<div>\n",
       "<style scoped>\n",
       "    .dataframe tbody tr th:only-of-type {\n",
       "        vertical-align: middle;\n",
       "    }\n",
       "\n",
       "    .dataframe tbody tr th {\n",
       "        vertical-align: top;\n",
       "    }\n",
       "\n",
       "    .dataframe thead th {\n",
       "        text-align: right;\n",
       "    }\n",
       "</style>\n",
       "<table border=\"1\" class=\"dataframe\">\n",
       "  <thead>\n",
       "    <tr style=\"text-align: right;\">\n",
       "      <th></th>\n",
       "      <th>superpopulation_code</th>\n",
       "    </tr>\n",
       "    <tr>\n",
       "      <th>sample_name</th>\n",
       "      <th></th>\n",
       "    </tr>\n",
       "  </thead>\n",
       "  <tbody>\n",
       "    <tr>\n",
       "      <th>NA19625</th>\n",
       "      <td>AFR</td>\n",
       "    </tr>\n",
       "    <tr>\n",
       "      <th>NA19835</th>\n",
       "      <td>AFR</td>\n",
       "    </tr>\n",
       "    <tr>\n",
       "      <th>NA19900</th>\n",
       "      <td>AFR</td>\n",
       "    </tr>\n",
       "    <tr>\n",
       "      <th>NA19917</th>\n",
       "      <td>AFR</td>\n",
       "    </tr>\n",
       "    <tr>\n",
       "      <th>NA19703</th>\n",
       "      <td>AFR</td>\n",
       "    </tr>\n",
       "  </tbody>\n",
       "</table>\n",
       "</div>"
      ],
      "text/plain": [
       "            superpopulation_code\n",
       "sample_name                     \n",
       "NA19625                      AFR\n",
       "NA19835                      AFR\n",
       "NA19900                      AFR\n",
       "NA19917                      AFR\n",
       "NA19703                      AFR"
      ]
     },
     "execution_count": 42,
     "metadata": {},
     "output_type": "execute_result"
    }
   ],
   "source": [
    "#Ancestry file\n",
    "\n",
    "#ancestry_file = pd.read_csv('drive/MyDrive/Amphora/ancestry-1000genome.tsv', sep='\\t')\n",
    "ancestry_file = pd.read_csv('ancestry-1000genome.tsv', sep='\\t')\n",
    "\n",
    "#Superpopulation code dataframe\n",
    "spp_code = pd.DataFrame()\n",
    "spp_code['sample_name'] = ancestry_file['Sample name']\n",
    "\n",
    "#getting only the patients as a dataframe\n",
    "patients = spp_code['sample_name']\n",
    "\n",
    "spp_code['superpopulation_code'] = ancestry_file['Superpopulation code']\n",
    "#the patient will be set as the index\n",
    "spp_code.set_index('sample_name', inplace=True)\n",
    "\n",
    "#getting the 5 categories we will use (ancestry types)\n",
    "ancestry_types = list(spp_code['superpopulation_code'].unique())\n",
    "\n",
    "spp_code.head()\n",
    "\n"
   ]
  },
  {
   "cell_type": "markdown",
   "metadata": {},
   "source": [
    "* In case we wanted to use a sample of the data, the next cell will help us. \n",
    "* Now we are using the 100% of the data, but we can change it with the parameter \"frac\""
   ]
  },
  {
   "cell_type": "code",
   "execution_count": 5,
   "metadata": {},
   "outputs": [
    {
     "name": "stdout",
     "output_type": "stream",
     "text": [
      "['NA20876' 'HG01148' 'HG01366' 'HG01992' 'HG01851']\n"
     ]
    },
    {
     "data": {
      "text/plain": [
       "2504"
      ]
     },
     "execution_count": 5,
     "metadata": {},
     "output_type": "execute_result"
    }
   ],
   "source": [
    "#Using a sample of 100%, random state makes that the sample be the same \n",
    "\n",
    "patients_=patients.sample(frac=1, random_state=1)\n",
    "list(patients_.head(1).values)[0]\n",
    "print(str(np.array(patients_[:5])))\n",
    "len(patients_)"
   ]
  },
  {
   "cell_type": "markdown",
   "metadata": {},
   "source": [
    "The main purpose of next cell is to create a DataFrame the merge the data of all the patients including their ancestry"
   ]
  },
  {
   "cell_type": "code",
   "execution_count": 6,
   "metadata": {},
   "outputs": [],
   "source": [
    "main_df = pd.DataFrame() #empty dataframe where we will save each patient's information\n",
    "lenn= 10028 #total len = 10028 of chr:location list\n",
    "\n",
    "for patient in patients_:   \n",
    "\n",
    "    #Getting the patient's information fron its CSV file\n",
    "    \n",
    "    #patient_x = pd.read_csv('drive/MyDrive/Amphora/Challenge_Samples/'+patient+'.csv')\n",
    "    patient_x = pd.read_csv('Challenge_Samples/'+patient+'.csv')\n",
    "    patient_x.rename(columns={patient:'Presence'},inplace=True)\n",
    "    \n",
    "    #Creating Presence list    \n",
    "    presence_list = list(patient_x['Presence'])\n",
    "    presence_list=presence_list[:lenn]\n",
    "\n",
    "    #Creating a string value that contains all the information of Chr:Location, ALT and Presence\n",
    "    sequence = (\"\".join(map(str, presence_list)))\n",
    "\n",
    "    #Getting the Superpopulation Code \n",
    "    code = list(spp_code[spp_code.index==patient]['superpopulation_code'] )\n",
    "    code = code[0]\n",
    "\n",
    "    #Getting the values for the three nationalities we're going to predict    \n",
    "    afr_res = 1  if code == 'AFR' else 0\n",
    "    eur_res = 1  if code == 'EUR' else 0\n",
    "    asian_res = 1  if code == 'SAS' or code == 'EAS' else 0\n",
    "\n",
    "    #creating the data and the columns of the dataframe\n",
    "    col = ['Patient', 'SPP_code', 'Sequence', 'AFR', 'EUR','ASIAN']\n",
    "    sample = {'Patient':patient, 'SPP_code':code, 'Sequence':sequence, 'AFR':afr_res, 'EUR': eur_res,'ASIAN':asian_res}    \n",
    "\n",
    "    df = pd.DataFrame(columns=col)\n",
    "    df=df.append(sample, ignore_index=True)\n",
    "    df.set_index('Patient')\n",
    "\n",
    "    #add the current df to the main_df as a new row\n",
    "    main_df = pd.concat([main_df,df], axis=0)    \n",
    "\n",
    "#setting the patient as the index of the dataframe\n",
    "main_df=main_df.set_index('Patient')"
   ]
  },
  {
   "cell_type": "code",
   "execution_count": 8,
   "metadata": {},
   "outputs": [
    {
     "data": {
      "text/html": [
       "<div>\n",
       "<style scoped>\n",
       "    .dataframe tbody tr th:only-of-type {\n",
       "        vertical-align: middle;\n",
       "    }\n",
       "\n",
       "    .dataframe tbody tr th {\n",
       "        vertical-align: top;\n",
       "    }\n",
       "\n",
       "    .dataframe thead th {\n",
       "        text-align: right;\n",
       "    }\n",
       "</style>\n",
       "<table border=\"1\" class=\"dataframe\">\n",
       "  <thead>\n",
       "    <tr style=\"text-align: right;\">\n",
       "      <th></th>\n",
       "      <th>SPP_code</th>\n",
       "      <th>Sequence</th>\n",
       "      <th>AFR</th>\n",
       "      <th>EUR</th>\n",
       "      <th>ASIAN</th>\n",
       "    </tr>\n",
       "    <tr>\n",
       "      <th>Patient</th>\n",
       "      <th></th>\n",
       "      <th></th>\n",
       "      <th></th>\n",
       "      <th></th>\n",
       "      <th></th>\n",
       "    </tr>\n",
       "  </thead>\n",
       "  <tbody>\n",
       "    <tr>\n",
       "      <th>NA20876</th>\n",
       "      <td>SAS</td>\n",
       "      <td>0000101011011010111011100010000010100011101000...</td>\n",
       "      <td>0</td>\n",
       "      <td>0</td>\n",
       "      <td>1</td>\n",
       "    </tr>\n",
       "    <tr>\n",
       "      <th>HG01148</th>\n",
       "      <td>AMR</td>\n",
       "      <td>0110100011011010111010000110000010100010110000...</td>\n",
       "      <td>0</td>\n",
       "      <td>0</td>\n",
       "      <td>0</td>\n",
       "    </tr>\n",
       "    <tr>\n",
       "      <th>HG01366</th>\n",
       "      <td>AMR</td>\n",
       "      <td>0011100111011010111011000010000011100000110000...</td>\n",
       "      <td>0</td>\n",
       "      <td>0</td>\n",
       "      <td>0</td>\n",
       "    </tr>\n",
       "    <tr>\n",
       "      <th>HG01992</th>\n",
       "      <td>AMR</td>\n",
       "      <td>0110100011111010111011000010001011101001101010...</td>\n",
       "      <td>0</td>\n",
       "      <td>0</td>\n",
       "      <td>0</td>\n",
       "    </tr>\n",
       "    <tr>\n",
       "      <th>HG01851</th>\n",
       "      <td>EAS</td>\n",
       "      <td>0001100000011000111011000010000011000101101000...</td>\n",
       "      <td>0</td>\n",
       "      <td>0</td>\n",
       "      <td>1</td>\n",
       "    </tr>\n",
       "  </tbody>\n",
       "</table>\n",
       "</div>"
      ],
      "text/plain": [
       "        SPP_code                                           Sequence AFR EUR  \\\n",
       "Patient                                                                       \n",
       "NA20876      SAS  0000101011011010111011100010000010100011101000...   0   0   \n",
       "HG01148      AMR  0110100011011010111010000110000010100010110000...   0   0   \n",
       "HG01366      AMR  0011100111011010111011000010000011100000110000...   0   0   \n",
       "HG01992      AMR  0110100011111010111011000010001011101001101010...   0   0   \n",
       "HG01851      EAS  0001100000011000111011000010000011000101101000...   0   0   \n",
       "\n",
       "        ASIAN  \n",
       "Patient        \n",
       "NA20876     1  \n",
       "HG01148     0  \n",
       "HG01366     0  \n",
       "HG01992     0  \n",
       "HG01851     1  "
      ]
     },
     "execution_count": 8,
     "metadata": {},
     "output_type": "execute_result"
    }
   ],
   "source": [
    "main_df.head()\n",
    "#main_df.xs('HG01119') #to look according to the index (which is the patient)\n"
   ]
  },
  {
   "cell_type": "markdown",
   "metadata": {},
   "source": [
    "Let's check how many patients are in each category"
   ]
  },
  {
   "cell_type": "code",
   "execution_count": 9,
   "metadata": {},
   "outputs": [
    {
     "name": "stdout",
     "output_type": "stream",
     "text": [
      "ASIAN:  993 \n",
      " AFRICAN:  661 \n",
      " EUROPEAN:  503\n"
     ]
    }
   ],
   "source": [
    "print('ASIAN: ',main_df['ASIAN'].sum(),'\\n',\n",
    "'AFRICAN: ',main_df['AFR'].sum(),'\\n',\n",
    "'EUROPEAN: ',main_df['EUR'].sum())"
   ]
  },
  {
   "cell_type": "code",
   "execution_count": 2,
   "metadata": {},
   "outputs": [
    {
     "data": {
      "text/html": [
       "<div>\n",
       "<style scoped>\n",
       "    .dataframe tbody tr th:only-of-type {\n",
       "        vertical-align: middle;\n",
       "    }\n",
       "\n",
       "    .dataframe tbody tr th {\n",
       "        vertical-align: top;\n",
       "    }\n",
       "\n",
       "    .dataframe thead th {\n",
       "        text-align: right;\n",
       "    }\n",
       "</style>\n",
       "<table border=\"1\" class=\"dataframe\">\n",
       "  <thead>\n",
       "    <tr style=\"text-align: right;\">\n",
       "      <th></th>\n",
       "      <th>SPP_code</th>\n",
       "      <th>Sequence</th>\n",
       "      <th>AFR</th>\n",
       "      <th>EUR</th>\n",
       "      <th>ASIAN</th>\n",
       "    </tr>\n",
       "    <tr>\n",
       "      <th>Patient</th>\n",
       "      <th></th>\n",
       "      <th></th>\n",
       "      <th></th>\n",
       "      <th></th>\n",
       "      <th></th>\n",
       "    </tr>\n",
       "  </thead>\n",
       "  <tbody>\n",
       "    <tr>\n",
       "      <th>NA20876</th>\n",
       "      <td>SAS</td>\n",
       "      <td>0000101011011010111011100010000010100011101000...</td>\n",
       "      <td>0</td>\n",
       "      <td>0</td>\n",
       "      <td>1</td>\n",
       "    </tr>\n",
       "    <tr>\n",
       "      <th>HG01148</th>\n",
       "      <td>AMR</td>\n",
       "      <td>0110100011011010111010000110000010100010110000...</td>\n",
       "      <td>0</td>\n",
       "      <td>0</td>\n",
       "      <td>0</td>\n",
       "    </tr>\n",
       "    <tr>\n",
       "      <th>HG01366</th>\n",
       "      <td>AMR</td>\n",
       "      <td>0011100111011010111011000010000011100000110000...</td>\n",
       "      <td>0</td>\n",
       "      <td>0</td>\n",
       "      <td>0</td>\n",
       "    </tr>\n",
       "    <tr>\n",
       "      <th>HG01992</th>\n",
       "      <td>AMR</td>\n",
       "      <td>0110100011111010111011000010001011101001101010...</td>\n",
       "      <td>0</td>\n",
       "      <td>0</td>\n",
       "      <td>0</td>\n",
       "    </tr>\n",
       "    <tr>\n",
       "      <th>HG01851</th>\n",
       "      <td>EAS</td>\n",
       "      <td>0001100000011000111011000010000011000101101000...</td>\n",
       "      <td>0</td>\n",
       "      <td>0</td>\n",
       "      <td>1</td>\n",
       "    </tr>\n",
       "  </tbody>\n",
       "</table>\n",
       "</div>"
      ],
      "text/plain": [
       "        SPP_code                                           Sequence  AFR  EUR  \\\n",
       "Patient                                                                         \n",
       "NA20876      SAS  0000101011011010111011100010000010100011101000...    0    0   \n",
       "HG01148      AMR  0110100011011010111010000110000010100010110000...    0    0   \n",
       "HG01366      AMR  0011100111011010111011000010000011100000110000...    0    0   \n",
       "HG01992      AMR  0110100011111010111011000010001011101001101010...    0    0   \n",
       "HG01851      EAS  0001100000011000111011000010000011000101101000...    0    0   \n",
       "\n",
       "         ASIAN  \n",
       "Patient         \n",
       "NA20876      1  \n",
       "HG01148      0  \n",
       "HG01366      0  \n",
       "HG01992      0  \n",
       "HG01851      1  "
      ]
     },
     "execution_count": 2,
     "metadata": {},
     "output_type": "execute_result"
    }
   ],
   "source": [
    "#Saving the dataframe into a CSV file at Google Drive or locally\n",
    "\n",
    "\"\"\"\n",
    "For Google Collab\n",
    "main_df.to_csv('drive/MyDrive/Amphora/main_df_100%_seq.csv', index=True)\n",
    "df_from_file = pd.read_csv('drive/MyDrive/Amphora/main_df_100%_seq.csv')\n",
    "\n",
    "\"\"\"\n",
    "#main_df.to_csv('main_df_100%_seq.csv', index=True) #Uncoment this line if you don't have the 'main_df_100%_seq.csv' already\n",
    "df_from_file = pd.read_csv('main_df_100%_seq.csv')\n",
    "main_df = df_from_file.set_index('Patient')\n",
    "main_df.head()"
   ]
  },
  {
   "cell_type": "markdown",
   "metadata": {},
   "source": [
    "##  Here starts the section of training the models"
   ]
  },
  {
   "cell_type": "markdown",
   "metadata": {},
   "source": [
    "* Import ML libraries"
   ]
  },
  {
   "cell_type": "code",
   "execution_count": 159,
   "metadata": {},
   "outputs": [],
   "source": [
    "from sklearn import preprocessing\n",
    "from sklearn.model_selection import train_test_split\n",
    "from sklearn.model_selection import cross_val_score\n",
    "import numpy as np\n",
    "from sklearn.neighbors import KNeighborsClassifier\n",
    "from sklearn import metrics\n",
    "from sklearn.naive_bayes import GaussianNB\n",
    "from sklearn.ensemble import RandomForestClassifier\n",
    "from sklearn.tree import DecisionTreeClassifier\n",
    "from sklearn.linear_model import LogisticRegression\n",
    "from sklearn import svm\n",
    "import matplotlib.pyplot as plt\n"
   ]
  },
  {
   "cell_type": "markdown",
   "metadata": {},
   "source": [
    "* Here there are two functions:\n",
    "1. **createLabelEncoder()** will encode the sequence of each patient and transform it into a number that we will send to the models as the X value\n",
    "2. **modelData()** will receive a dataframe and the name of a model and will return the metrics and the confusion matrix of the model selected for those data"
   ]
  },
  {
   "cell_type": "code",
   "execution_count": 113,
   "metadata": {},
   "outputs": [],
   "source": [
    "#Let's CREATE A FUNCTION to preprocess the data of sequence in order to have an int value to fit the model\n",
    "from sklearn import preprocessing\n",
    "\n",
    "def createLabelEncoder(df):\n",
    "\n",
    "    #creating labelEncoder\n",
    "    le = preprocessing.LabelEncoder()\n",
    "\n",
    "    # Converting string labels into numbers.\n",
    "    seq_encoded=le.fit_transform(df['Sequence'])\n",
    "\n",
    "    #this is the number in which each sequence was transformed\n",
    "    #print(set(list(seq_encoded))) \n",
    "    #type(seq_encoded)\n",
    "    #print(list(le.classes_)) #this is the sequence of 0 and 1\n",
    "\n",
    "    return seq_encoded\n",
    "\n",
    "    "
   ]
  },
  {
   "cell_type": "code",
   "execution_count": 155,
   "metadata": {},
   "outputs": [],
   "source": [
    "\n",
    "#function for any model\n",
    "def modelData(df, modelClass):     \n",
    "\n",
    "    seq_encoded = createLabelEncoder(df)\n",
    "\n",
    "    #Declare X and y variables\n",
    "    x= seq_encoded\n",
    "    x = x.reshape(-1, 1) \n",
    "    y = df[[df.columns[2]]].values\n",
    "\n",
    "    #train and test data\n",
    "    X_train, X_test, y_train, y_test = train_test_split(x, y, test_size=0.2, train_size=0.8,random_state=0)\n",
    "\n",
    "    \n",
    "    #Select the correct model according to the atribute received\n",
    "    if modelClass == 'knn':\n",
    "        model = KNeighborsClassifier()\n",
    "        print('MODEL CHOSEN: KNN\\n')\n",
    "    elif modelClass == 'gnb':\n",
    "        model = GaussianNB()\n",
    "        print('MODEL CHOSEN: Naive Bayes\\n')\n",
    "    elif modelClass == 'rfc':\n",
    "        model = RandomForestClassifier()\n",
    "        print('MODEL CHOSEN: Random Forest\\n')\n",
    "    elif modelClass == 'logreg':\n",
    "        model = LogisticRegression(solver='liblinear')\n",
    "        print('MODEL CHOSEN: Logistic Regression\\n')\n",
    "    elif modelClass == 'dtc':\n",
    "        model = DecisionTreeClassifier()\n",
    "        print('MODEL CHOSEN: Decision Tree\\n')\n",
    "    elif modelClass == 'svm':\n",
    "        model = svm.SVC(probability=True)\n",
    "        print('MODEL CHOSEN: SVM\\n')\n",
    "\n",
    "\n",
    "    #Using cross validation with 10 folds for the model selected        \n",
    "    cv_scores = cross_val_score(model, X_train,np.ravel(y_train), cv=10,scoring='accuracy').mean()\n",
    "\n",
    "    #Training the model\n",
    "    model.fit(X_train, y_train.ravel())\n",
    "\n",
    "    #Predict the response for test dataset\n",
    "    y_pred=model.predict(X_test)\n",
    " \n",
    "    #predicted probabilities \n",
    "    y_pred_prob=model.predict_proba(X_test)\n",
    "    #print(\"Predicted probabilities: \",y_pred_prob[:,1])\n",
    "\n",
    "    #Print confusion matrix    \n",
    "    cm = metrics.confusion_matrix(y_test, y_pred)\n",
    "    # print(cm)\n",
    "                     \n",
    "    #----------Plotting\n",
    "    fig1=plt.figure(figsize=(5,5))\n",
    "    cmd = metrics.ConfusionMatrixDisplay(cm,display_labels=['Ancestry' ,'Not ancestry'])\n",
    "    cmd.plot()\n",
    "    plt.title('Confusion Matrix')\n",
    "    plt.show()\n",
    "\n",
    "    fig2=plt.figure(figsize=(5,5))\n",
    "\n",
    "    fpr, tpr, threshold = metrics.roc_curve(y_test,y_pred_prob[:, 1])\n",
    "    roc_auc = metrics.auc(fpr, tpr)\n",
    "    \n",
    "    plt.subplot(2, 1, 2)\n",
    "    plt.title('Receiver Operating Characteristic')\n",
    "    plt.plot(fpr, tpr, 'b', label = 'AUC = %0.2f' % roc_auc)\n",
    "    plt.legend(loc = 'lower right')\n",
    "    plt.plot([0, 1], [0, 1],'r--')\n",
    "    plt.xlim([0, 1])\n",
    "    plt.ylim([0, 1])\n",
    "    plt.ylabel('True Positive Rate')\n",
    "    plt.xlabel('False Positive Rate')\n",
    "    plt.show()\n",
    "\n",
    "    fig2.suptitle(\"Figure with only one Subplot\")\n",
    "    plt.show()\n",
    "      \n",
    "    #----------End of Plotting \n",
    "\n",
    "    \n",
    "    #Dataframe with the result of the metrics\n",
    "    return pd.DataFrame(data=[metrics.accuracy_score(y_test, y_pred),\n",
    "                            cv_scores,\n",
    "                             metrics.recall_score(y_test, y_pred),\n",
    "                            metrics.precision_score(y_test, y_pred), \n",
    "                            metrics.roc_auc_score(y_test, y_pred_prob[:, 1]),\n",
    "                            cross_val_score(model, X_train,np.ravel(y_train), cv=10,scoring='roc_auc').mean()], \n",
    "                            \n",
    "                        index=[\"Accuracy\",\"Cross-val Accuracy\", \"Recall\", \"Precision\", \"AUC score\", 'Cross-val AUC']              \n",
    "                        )\n",
    "    \n",
    "\n"
   ]
  },
  {
   "cell_type": "markdown",
   "metadata": {},
   "source": [
    "### **European ancestry KNN**"
   ]
  },
  {
   "cell_type": "code",
   "execution_count": 156,
   "metadata": {},
   "outputs": [
    {
     "name": "stdout",
     "output_type": "stream",
     "text": [
      "MODEL CHOSEN: KNN\n",
      "\n"
     ]
    },
    {
     "data": {
      "text/plain": [
       "<Figure size 360x360 with 0 Axes>"
      ]
     },
     "metadata": {},
     "output_type": "display_data"
    },
    {
     "data": {
      "image/png": "[encoded data removed]",
      "text/plain": [
       "<Figure size 432x288 with 2 Axes>"
      ]
     },
     "metadata": {
      "needs_background": "light"
     },
     "output_type": "display_data"
    },
    {
     "data": {
      "image/png": "[encoded data removed]",
      "text/plain": [
       "<Figure size 360x360 with 1 Axes>"
      ]
     },
     "metadata": {
      "needs_background": "light"
     },
     "output_type": "display_data"
    },
    {
     "data": {
      "text/html": [
       "<div>\n",
       "<style scoped>\n",
       "    .dataframe tbody tr th:only-of-type {\n",
       "        vertical-align: middle;\n",
       "    }\n",
       "\n",
       "    .dataframe tbody tr th {\n",
       "        vertical-align: top;\n",
       "    }\n",
       "\n",
       "    .dataframe thead th {\n",
       "        text-align: right;\n",
       "    }\n",
       "</style>\n",
       "<table border=\"1\" class=\"dataframe\">\n",
       "  <thead>\n",
       "    <tr style=\"text-align: right;\">\n",
       "      <th></th>\n",
       "      <th>0</th>\n",
       "    </tr>\n",
       "  </thead>\n",
       "  <tbody>\n",
       "    <tr>\n",
       "      <th>Accuracy</th>\n",
       "      <td>0.788423</td>\n",
       "    </tr>\n",
       "    <tr>\n",
       "      <th>Cross-val Accuracy</th>\n",
       "      <td>0.803801</td>\n",
       "    </tr>\n",
       "    <tr>\n",
       "      <th>Recall</th>\n",
       "      <td>0.309735</td>\n",
       "    </tr>\n",
       "    <tr>\n",
       "      <th>Precision</th>\n",
       "      <td>0.555556</td>\n",
       "    </tr>\n",
       "    <tr>\n",
       "      <th>AUC score</th>\n",
       "      <td>0.764574</td>\n",
       "    </tr>\n",
       "    <tr>\n",
       "      <th>Cross-val AUC</th>\n",
       "      <td>0.759221</td>\n",
       "    </tr>\n",
       "  </tbody>\n",
       "</table>\n",
       "</div>"
      ],
      "text/plain": [
       "                           0\n",
       "Accuracy            0.788423\n",
       "Cross-val Accuracy  0.803801\n",
       "Recall              0.309735\n",
       "Precision           0.555556\n",
       "AUC score           0.764574\n",
       "Cross-val AUC       0.759221"
      ]
     },
     "execution_count": 156,
     "metadata": {},
     "output_type": "execute_result"
    }
   ],
   "source": [
    "#drop the ancestries we are not going to predict\n",
    "df_eur = main_df.drop(['ASIAN', 'AFR'], axis=1)\n",
    "\n",
    "modelData(df_eur, 'knn') # k-nearest neighbor"
   ]
  },
  {
   "cell_type": "markdown",
   "metadata": {},
   "source": [
    "### **African ancestry Random forest**"
   ]
  },
  {
   "cell_type": "code",
   "execution_count": 157,
   "metadata": {},
   "outputs": [
    {
     "name": "stdout",
     "output_type": "stream",
     "text": [
      "MODEL CHOSEN: Random Forest\n",
      "\n"
     ]
    },
    {
     "data": {
      "text/plain": [
       "<Figure size 360x360 with 0 Axes>"
      ]
     },
     "metadata": {},
     "output_type": "display_data"
    },
    {
     "data": {
      "image/png": "[encoded data removed]",
      "text/plain": [
       "<Figure size 432x288 with 2 Axes>"
      ]
     },
     "metadata": {
      "needs_background": "light"
     },
     "output_type": "display_data"
    },
    {
     "data": {
      "image/png": "[encoded data removed]",
      "text/plain": [
       "<Figure size 360x360 with 1 Axes>"
      ]
     },
     "metadata": {
      "needs_background": "light"
     },
     "output_type": "display_data"
    },
    {
     "data": {
      "text/html": [
       "<div>\n",
       "<style scoped>\n",
       "    .dataframe tbody tr th:only-of-type {\n",
       "        vertical-align: middle;\n",
       "    }\n",
       "\n",
       "    .dataframe tbody tr th {\n",
       "        vertical-align: top;\n",
       "    }\n",
       "\n",
       "    .dataframe thead th {\n",
       "        text-align: right;\n",
       "    }\n",
       "</style>\n",
       "<table border=\"1\" class=\"dataframe\">\n",
       "  <thead>\n",
       "    <tr style=\"text-align: right;\">\n",
       "      <th></th>\n",
       "      <th>0</th>\n",
       "    </tr>\n",
       "  </thead>\n",
       "  <tbody>\n",
       "    <tr>\n",
       "      <th>Accuracy</th>\n",
       "      <td>0.896208</td>\n",
       "    </tr>\n",
       "    <tr>\n",
       "      <th>Cross-val Accuracy</th>\n",
       "      <td>0.870689</td>\n",
       "    </tr>\n",
       "    <tr>\n",
       "      <th>Recall</th>\n",
       "      <td>0.829457</td>\n",
       "    </tr>\n",
       "    <tr>\n",
       "      <th>Precision</th>\n",
       "      <td>0.781022</td>\n",
       "    </tr>\n",
       "    <tr>\n",
       "      <th>AUC score</th>\n",
       "      <td>0.955155</td>\n",
       "    </tr>\n",
       "    <tr>\n",
       "      <th>Cross-val AUC</th>\n",
       "      <td>0.926581</td>\n",
       "    </tr>\n",
       "  </tbody>\n",
       "</table>\n",
       "</div>"
      ],
      "text/plain": [
       "                           0\n",
       "Accuracy            0.896208\n",
       "Cross-val Accuracy  0.870689\n",
       "Recall              0.829457\n",
       "Precision           0.781022\n",
       "AUC score           0.955155\n",
       "Cross-val AUC       0.926581"
      ]
     },
     "execution_count": 157,
     "metadata": {},
     "output_type": "execute_result"
    }
   ],
   "source": [
    "#drop the ancestries we are not going to predict\n",
    "df_afr = main_df.drop(['EUR', 'ASIAN'], axis=1)\n",
    "\n",
    "modelData(df_afr, 'rfc') #Random forest\n"
   ]
  },
  {
   "cell_type": "markdown",
   "metadata": {},
   "source": [
    "### **Asian ancestry SVM**"
   ]
  },
  {
   "cell_type": "code",
   "execution_count": 158,
   "metadata": {},
   "outputs": [
    {
     "name": "stdout",
     "output_type": "stream",
     "text": [
      "MODEL CHOSEN: SVM\n",
      "\n"
     ]
    },
    {
     "data": {
      "text/plain": [
       "<Figure size 360x360 with 0 Axes>"
      ]
     },
     "metadata": {},
     "output_type": "display_data"
    },
    {
     "data": {
      "image/png": "[encoded data removed]",
      "text/plain": [
       "<Figure size 432x288 with 2 Axes>"
      ]
     },
     "metadata": {
      "needs_background": "light"
     },
     "output_type": "display_data"
    },
    {
     "data": {
      "image/png": "[encoded data removed]",
      "text/plain": [
       "<Figure size 360x360 with 1 Axes>"
      ]
     },
     "metadata": {
      "needs_background": "light"
     },
     "output_type": "display_data"
    },
    {
     "data": {
      "text/html": [
       "<div>\n",
       "<style scoped>\n",
       "    .dataframe tbody tr th:only-of-type {\n",
       "        vertical-align: middle;\n",
       "    }\n",
       "\n",
       "    .dataframe tbody tr th {\n",
       "        vertical-align: top;\n",
       "    }\n",
       "\n",
       "    .dataframe thead th {\n",
       "        text-align: right;\n",
       "    }\n",
       "</style>\n",
       "<table border=\"1\" class=\"dataframe\">\n",
       "  <thead>\n",
       "    <tr style=\"text-align: right;\">\n",
       "      <th></th>\n",
       "      <th>0</th>\n",
       "    </tr>\n",
       "  </thead>\n",
       "  <tbody>\n",
       "    <tr>\n",
       "      <th>Accuracy</th>\n",
       "      <td>0.708583</td>\n",
       "    </tr>\n",
       "    <tr>\n",
       "      <th>Cross-val Accuracy</th>\n",
       "      <td>0.719430</td>\n",
       "    </tr>\n",
       "    <tr>\n",
       "      <th>Recall</th>\n",
       "      <td>0.725888</td>\n",
       "    </tr>\n",
       "    <tr>\n",
       "      <th>Precision</th>\n",
       "      <td>0.608511</td>\n",
       "    </tr>\n",
       "    <tr>\n",
       "      <th>AUC score</th>\n",
       "      <td>0.763742</td>\n",
       "    </tr>\n",
       "    <tr>\n",
       "      <th>Cross-val AUC</th>\n",
       "      <td>0.770806</td>\n",
       "    </tr>\n",
       "  </tbody>\n",
       "</table>\n",
       "</div>"
      ],
      "text/plain": [
       "                           0\n",
       "Accuracy            0.708583\n",
       "Cross-val Accuracy  0.719430\n",
       "Recall              0.725888\n",
       "Precision           0.608511\n",
       "AUC score           0.763742\n",
       "Cross-val AUC       0.770806"
      ]
     },
     "execution_count": 158,
     "metadata": {},
     "output_type": "execute_result"
    }
   ],
   "source": [
    "#drop the ancestries we are not going to predict\n",
    "df_asian = main_df.drop(['AFR', 'EUR'], axis=1)\n",
    "\n",
    "modelData(df_asian, 'svm') #Support vector machine"
   ]
  }
 ],
 "metadata": {
  "interpreter": {
   "hash": "6e12b99451188a96fe4605eb4c7ee05ee6f8d2932d13829995f682fb642b4e94"
  },
  "kernelspec": {
   "display_name": "Python 3.7.13 ('amphora')",
   "language": "python",
   "name": "python3"
  },
  "language_info": {
   "codemirror_mode": {
    "name": "ipython",
    "version": 3
   },
   "file_extension": ".py",
   "mimetype": "text/x-python",
   "name": "python",
   "nbconvert_exporter": "python",
   "pygments_lexer": "ipython3",
   "version": "3.7.13"
  },
  "orig_nbformat": 4
 },
 "nbformat": 4,
 "nbformat_minor": 2
}
