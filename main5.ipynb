{
  "cells": [
    {
      "cell_type": "markdown",
      "metadata": {
        "id": "view-in-github",
        "colab_type": "text"
      },
      "source": [
        "<a href=\"https://colab.research.google.com/github/MajoCarb/AmphoraProject/blob/master/main5.ipynb\" target=\"_parent\"><img src=\"https://colab.research.google.com/assets/colab-badge.svg\" alt=\"Open In Colab\"/></a>"
      ]
    },
    {
      "cell_type": "markdown",
      "metadata": {
        "id": "EAgBi8J3udz_"
      },
      "source": [
        "## AMPHORA CHALLENGE\n",
        "#### By María José Carbajal Alonso"
      ]
    },
    {
      "cell_type": "code",
      "execution_count": 1,
      "metadata": {
        "id": "IlRyEzevud0D"
      },
      "outputs": [],
      "source": [
        "#importar librerias\n",
        "import pandas as pd\n"
      ]
    },
    {
      "cell_type": "code",
      "execution_count": 4,
      "metadata": {
        "id": "oN824E0nud0E",
        "outputId": "8c4d1fba-7c72-4624-caa2-fe10f27a45c3",
        "colab": {
          "base_uri": "https://localhost:8080/"
        }
      },
      "outputs": [
        {
          "output_type": "execute_result",
          "data": {
            "text/plain": [
              "['AFR', 'SAS', 'EUR', 'AMR', 'EAS']"
            ]
          },
          "metadata": {},
          "execution_count": 4
        }
      ],
      "source": [
        "#Ancestry file\n",
        "ancestry_file = pd.read_csv('drive/MyDrive/Amphora/ancestry-1000genome.tsv', sep='\\t')\n",
        "#ancestry_file = pd.read_csv('ancestry-1000genome.tsv', sep='\\t',index_col='Sample name')\n",
        "\n",
        "#Superpopulation code dataframe\n",
        "spp_code = pd.DataFrame()\n",
        "spp_code['sample_name'] = ancestry_file['Sample name']\n",
        "\n",
        "#gatting the patients only\n",
        "patients = spp_code['sample_name']\n",
        "\n",
        "spp_code['superpopulation_code'] = ancestry_file['Superpopulation code']\n",
        "spp_code.set_index('sample_name', inplace=True)\n",
        "\n",
        "#getting the 5 categories we will use (ancestry types)\n",
        "ancestry_types = list(spp_code['superpopulation_code'].unique())\n",
        "ancestry_types"
      ]
    },
    {
      "cell_type": "code",
      "source": [
        "from google.colab import drive\n",
        "drive.mount('/content/drive')"
      ],
      "metadata": {
        "id": "G_XL_WtshnEs",
        "outputId": "b5cdbbc9-15e4-4ab3-b701-f48d47b2eb21",
        "colab": {
          "base_uri": "https://localhost:8080/"
        }
      },
      "execution_count": 3,
      "outputs": [
        {
          "output_type": "stream",
          "name": "stdout",
          "text": [
            "Mounted at /content/drive\n"
          ]
        }
      ]
    },
    {
      "cell_type": "code",
      "execution_count": 40,
      "metadata": {
        "id": "lzbqKB51ud0G",
        "outputId": "39bc23bf-8694-4b4d-81cc-7c23f2a3d22c",
        "colab": {
          "base_uri": "https://localhost:8080/",
          "height": 35
        }
      },
      "outputs": [
        {
          "output_type": "execute_result",
          "data": {
            "text/plain": [
              "'NA20876'"
            ],
            "application/vnd.google.colaboratory.intrinsic+json": {
              "type": "string"
            }
          },
          "metadata": {},
          "execution_count": 40
        }
      ],
      "source": [
        "#Reduction of number of patients using a sample of 40%, random state makes that the sample be the same \n",
        "patients_=patients.sample(frac=.5, random_state=1)\n",
        "list(patients_.head(1).values)[0]"
      ]
    },
    {
      "cell_type": "code",
      "execution_count": null,
      "metadata": {
        "id": "jyecjfxgud0H",
        "outputId": "3b5ab978-6e16-4416-92bf-6ba7c27a2ef1"
      },
      "outputs": [
        {
          "data": {
            "text/plain": [
              "[0, 0, 0, 0, 0, 0, 0, 0, 0, 0]"
            ]
          },
          "execution_count": 114,
          "metadata": {},
          "output_type": "execute_result"
        }
      ],
      "source": [
        "# code = spp_code[spp_code.index==list(patients_.head(1).values)[0]]['superpopulation_code'][0] \n",
        "# code\n",
        "# eur_res = [1] * 10 if code == 'EUR' else [0]*10\n",
        "# eur_res\n"
      ]
    },
    {
      "cell_type": "code",
      "execution_count": 41,
      "metadata": {
        "id": "gHPmymiKud0H",
        "outputId": "97322d13-20a4-402f-8744-b9f578314b09",
        "colab": {
          "base_uri": "https://localhost:8080/",
          "height": 455
        }
      },
      "outputs": [
        {
          "output_type": "execute_result",
          "data": {
            "text/plain": [
              "                                          ALT  Presence  EUR  SAS  AFR  AMR  \\\n",
              "Patient Superpopulation Code Chr:Location                                     \n",
              "NA20876 SAS                  5;195139       T         0    0    1    0    0   \n",
              "                             5;336952       C         0    0    1    0    0   \n",
              "                             5;389603       C         0    0    1    0    0   \n",
              "                             5;851582       A         0    0    1    0    0   \n",
              "                             5;1144802      C         1    0    1    0    0   \n",
              "...                                        ..       ...  ...  ...  ...  ...   \n",
              "HG01029 EAS                  4;90761412     C         0    0    0    0    0   \n",
              "                             4;90799451     A         0    0    0    0    0   \n",
              "                             4;90912225     T         1    0    0    0    0   \n",
              "                             4;90958245     A         0    0    0    0    0   \n",
              "                             4;91320056     A         0    0    0    0    0   \n",
              "\n",
              "                                           EAS  \n",
              "Patient Superpopulation Code Chr:Location       \n",
              "NA20876 SAS                  5;195139        0  \n",
              "                             5;336952        0  \n",
              "                             5;389603        0  \n",
              "                             5;851582        0  \n",
              "                             5;1144802       0  \n",
              "...                                        ...  \n",
              "HG01029 EAS                  4;90761412      1  \n",
              "                             4;90799451      1  \n",
              "                             4;90912225      1  \n",
              "                             4;90958245      1  \n",
              "                             4;91320056      1  \n",
              "\n",
              "[6260000 rows x 7 columns]"
            ],
            "text/html": [
              "\n",
              "  <div id=\"df-1dfbd727-4350-48e3-8a72-63fbf9fff34a\">\n",
              "    <div class=\"colab-df-container\">\n",
              "      <div>\n",
              "<style scoped>\n",
              "    .dataframe tbody tr th:only-of-type {\n",
              "        vertical-align: middle;\n",
              "    }\n",
              "\n",
              "    .dataframe tbody tr th {\n",
              "        vertical-align: top;\n",
              "    }\n",
              "\n",
              "    .dataframe thead th {\n",
              "        text-align: right;\n",
              "    }\n",
              "</style>\n",
              "<table border=\"1\" class=\"dataframe\">\n",
              "  <thead>\n",
              "    <tr style=\"text-align: right;\">\n",
              "      <th></th>\n",
              "      <th></th>\n",
              "      <th></th>\n",
              "      <th>ALT</th>\n",
              "      <th>Presence</th>\n",
              "      <th>EUR</th>\n",
              "      <th>SAS</th>\n",
              "      <th>AFR</th>\n",
              "      <th>AMR</th>\n",
              "      <th>EAS</th>\n",
              "    </tr>\n",
              "    <tr>\n",
              "      <th>Patient</th>\n",
              "      <th>Superpopulation Code</th>\n",
              "      <th>Chr:Location</th>\n",
              "      <th></th>\n",
              "      <th></th>\n",
              "      <th></th>\n",
              "      <th></th>\n",
              "      <th></th>\n",
              "      <th></th>\n",
              "      <th></th>\n",
              "    </tr>\n",
              "  </thead>\n",
              "  <tbody>\n",
              "    <tr>\n",
              "      <th rowspan=\"5\" valign=\"top\">NA20876</th>\n",
              "      <th rowspan=\"5\" valign=\"top\">SAS</th>\n",
              "      <th>5;195139</th>\n",
              "      <td>T</td>\n",
              "      <td>0</td>\n",
              "      <td>0</td>\n",
              "      <td>1</td>\n",
              "      <td>0</td>\n",
              "      <td>0</td>\n",
              "      <td>0</td>\n",
              "    </tr>\n",
              "    <tr>\n",
              "      <th>5;336952</th>\n",
              "      <td>C</td>\n",
              "      <td>0</td>\n",
              "      <td>0</td>\n",
              "      <td>1</td>\n",
              "      <td>0</td>\n",
              "      <td>0</td>\n",
              "      <td>0</td>\n",
              "    </tr>\n",
              "    <tr>\n",
              "      <th>5;389603</th>\n",
              "      <td>C</td>\n",
              "      <td>0</td>\n",
              "      <td>0</td>\n",
              "      <td>1</td>\n",
              "      <td>0</td>\n",
              "      <td>0</td>\n",
              "      <td>0</td>\n",
              "    </tr>\n",
              "    <tr>\n",
              "      <th>5;851582</th>\n",
              "      <td>A</td>\n",
              "      <td>0</td>\n",
              "      <td>0</td>\n",
              "      <td>1</td>\n",
              "      <td>0</td>\n",
              "      <td>0</td>\n",
              "      <td>0</td>\n",
              "    </tr>\n",
              "    <tr>\n",
              "      <th>5;1144802</th>\n",
              "      <td>C</td>\n",
              "      <td>1</td>\n",
              "      <td>0</td>\n",
              "      <td>1</td>\n",
              "      <td>0</td>\n",
              "      <td>0</td>\n",
              "      <td>0</td>\n",
              "    </tr>\n",
              "    <tr>\n",
              "      <th>...</th>\n",
              "      <th>...</th>\n",
              "      <th>...</th>\n",
              "      <td>...</td>\n",
              "      <td>...</td>\n",
              "      <td>...</td>\n",
              "      <td>...</td>\n",
              "      <td>...</td>\n",
              "      <td>...</td>\n",
              "      <td>...</td>\n",
              "    </tr>\n",
              "    <tr>\n",
              "      <th rowspan=\"5\" valign=\"top\">HG01029</th>\n",
              "      <th rowspan=\"5\" valign=\"top\">EAS</th>\n",
              "      <th>4;90761412</th>\n",
              "      <td>C</td>\n",
              "      <td>0</td>\n",
              "      <td>0</td>\n",
              "      <td>0</td>\n",
              "      <td>0</td>\n",
              "      <td>0</td>\n",
              "      <td>1</td>\n",
              "    </tr>\n",
              "    <tr>\n",
              "      <th>4;90799451</th>\n",
              "      <td>A</td>\n",
              "      <td>0</td>\n",
              "      <td>0</td>\n",
              "      <td>0</td>\n",
              "      <td>0</td>\n",
              "      <td>0</td>\n",
              "      <td>1</td>\n",
              "    </tr>\n",
              "    <tr>\n",
              "      <th>4;90912225</th>\n",
              "      <td>T</td>\n",
              "      <td>1</td>\n",
              "      <td>0</td>\n",
              "      <td>0</td>\n",
              "      <td>0</td>\n",
              "      <td>0</td>\n",
              "      <td>1</td>\n",
              "    </tr>\n",
              "    <tr>\n",
              "      <th>4;90958245</th>\n",
              "      <td>A</td>\n",
              "      <td>0</td>\n",
              "      <td>0</td>\n",
              "      <td>0</td>\n",
              "      <td>0</td>\n",
              "      <td>0</td>\n",
              "      <td>1</td>\n",
              "    </tr>\n",
              "    <tr>\n",
              "      <th>4;91320056</th>\n",
              "      <td>A</td>\n",
              "      <td>0</td>\n",
              "      <td>0</td>\n",
              "      <td>0</td>\n",
              "      <td>0</td>\n",
              "      <td>0</td>\n",
              "      <td>1</td>\n",
              "    </tr>\n",
              "  </tbody>\n",
              "</table>\n",
              "<p>6260000 rows × 7 columns</p>\n",
              "</div>\n",
              "      <button class=\"colab-df-convert\" onclick=\"convertToInteractive('df-1dfbd727-4350-48e3-8a72-63fbf9fff34a')\"\n",
              "              title=\"Convert this dataframe to an interactive table.\"\n",
              "              style=\"display:none;\">\n",
              "        \n",
              "  <svg xmlns=\"http://www.w3.org/2000/svg\" height=\"24px\"viewBox=\"0 0 24 24\"\n",
              "       width=\"24px\">\n",
              "    <path d=\"M0 0h24v24H0V0z\" fill=\"none\"/>\n",
              "    <path d=\"M18.56 5.44l.94 2.06.94-2.06 2.06-.94-2.06-.94-.94-2.06-.94 2.06-2.06.94zm-11 1L8.5 8.5l.94-2.06 2.06-.94-2.06-.94L8.5 2.5l-.94 2.06-2.06.94zm10 10l.94 2.06.94-2.06 2.06-.94-2.06-.94-.94-2.06-.94 2.06-2.06.94z\"/><path d=\"M17.41 7.96l-1.37-1.37c-.4-.4-.92-.59-1.43-.59-.52 0-1.04.2-1.43.59L10.3 9.45l-7.72 7.72c-.78.78-.78 2.05 0 2.83L4 21.41c.39.39.9.59 1.41.59.51 0 1.02-.2 1.41-.59l7.78-7.78 2.81-2.81c.8-.78.8-2.07 0-2.86zM5.41 20L4 18.59l7.72-7.72 1.47 1.35L5.41 20z\"/>\n",
              "  </svg>\n",
              "      </button>\n",
              "      \n",
              "  <style>\n",
              "    .colab-df-container {\n",
              "      display:flex;\n",
              "      flex-wrap:wrap;\n",
              "      gap: 12px;\n",
              "    }\n",
              "\n",
              "    .colab-df-convert {\n",
              "      background-color: #E8F0FE;\n",
              "      border: none;\n",
              "      border-radius: 50%;\n",
              "      cursor: pointer;\n",
              "      display: none;\n",
              "      fill: #1967D2;\n",
              "      height: 32px;\n",
              "      padding: 0 0 0 0;\n",
              "      width: 32px;\n",
              "    }\n",
              "\n",
              "    .colab-df-convert:hover {\n",
              "      background-color: #E2EBFA;\n",
              "      box-shadow: 0px 1px 2px rgba(60, 64, 67, 0.3), 0px 1px 3px 1px rgba(60, 64, 67, 0.15);\n",
              "      fill: #174EA6;\n",
              "    }\n",
              "\n",
              "    [theme=dark] .colab-df-convert {\n",
              "      background-color: #3B4455;\n",
              "      fill: #D2E3FC;\n",
              "    }\n",
              "\n",
              "    [theme=dark] .colab-df-convert:hover {\n",
              "      background-color: #434B5C;\n",
              "      box-shadow: 0px 1px 3px 1px rgba(0, 0, 0, 0.15);\n",
              "      filter: drop-shadow(0px 1px 2px rgba(0, 0, 0, 0.3));\n",
              "      fill: #FFFFFF;\n",
              "    }\n",
              "  </style>\n",
              "\n",
              "      <script>\n",
              "        const buttonEl =\n",
              "          document.querySelector('#df-1dfbd727-4350-48e3-8a72-63fbf9fff34a button.colab-df-convert');\n",
              "        buttonEl.style.display =\n",
              "          google.colab.kernel.accessAllowed ? 'block' : 'none';\n",
              "\n",
              "        async function convertToInteractive(key) {\n",
              "          const element = document.querySelector('#df-1dfbd727-4350-48e3-8a72-63fbf9fff34a');\n",
              "          const dataTable =\n",
              "            await google.colab.kernel.invokeFunction('convertToInteractive',\n",
              "                                                     [key], {});\n",
              "          if (!dataTable) return;\n",
              "\n",
              "          const docLinkHtml = 'Like what you see? Visit the ' +\n",
              "            '<a target=\"_blank\" href=https://colab.research.google.com/notebooks/data_table.ipynb>data table notebook</a>'\n",
              "            + ' to learn more about interactive tables.';\n",
              "          element.innerHTML = '';\n",
              "          dataTable['output_type'] = 'display_data';\n",
              "          await google.colab.output.renderOutput(dataTable, element);\n",
              "          const docLink = document.createElement('div');\n",
              "          docLink.innerHTML = docLinkHtml;\n",
              "          element.appendChild(docLink);\n",
              "        }\n",
              "      </script>\n",
              "    </div>\n",
              "  </div>\n",
              "  "
            ]
          },
          "metadata": {},
          "execution_count": 41
        }
      ],
      "source": [
        "#selecting some patients in order to reduce data\n",
        "# patients_ = patients[426:449]\n",
        "# patients_= patients_.append([patients[524:542], patients[920:938], patients[1028:1046]])\n",
        "main_df = pd.DataFrame()\n",
        "lenn= 5000 #total len = 10028\n",
        "\n",
        "for patient in patients_:\n",
        "\n",
        "  \n",
        "    #Gatting the patient's information in the CSV file \n",
        "    patient_x = pd.read_csv('drive/MyDrive/Amphora/Challenge_Samples/'+patient+'.csv')\n",
        "    patient_x.rename(columns={patient:'Presence'},inplace=True)\n",
        "    \n",
        "    #Creating the ALT and Presence lists (These will be the columns)    \n",
        "    alt_list= list(patient_x['ALT'])\n",
        "    alt_list=alt_list[:lenn]\n",
        "    presence_list = list(patient_x['Presence'])\n",
        "    presence_list=presence_list[:lenn]\n",
        "\n",
        "    #Getting the superpopulation code from the patient\n",
        "    code = list(spp_code[spp_code.index==patient]['superpopulation_code'] )\n",
        "\n",
        "    afr_res = [1] * lenn if code[0] == 'AFR' else [0]*lenn\n",
        "    eur_res = [1] * lenn if code[0] == 'EUR' else [0]*lenn\n",
        "    sas_res = [1] * lenn if code[0] == 'SAS' else [0]*lenn\n",
        "    amr_res = [1] * lenn if code[0] == 'AMR' else [0]*lenn\n",
        "    eas_res = [1] * lenn if code[0] == 'EAS' else [0]*lenn\n",
        "    \n",
        "\n",
        "    #Getting the Chromosoma:Location list\n",
        "    list_chr_loc = list(patient_x['Unnamed: 0'])\n",
        "    list_chr_loc=list_chr_loc[:lenn]\n",
        "\n",
        "    #creating  multi indexes\n",
        "    index = pd.MultiIndex.from_product(       \n",
        "        [[patient], code, list_chr_loc], \n",
        "        names=['Patient', 'Superpopulation Code', 'Chr:Location']\n",
        "        )\n",
        "\n",
        "    d = {'ALT': alt_list, 'Presence': presence_list, 'EUR': eur_res, 'SAS':sas_res, 'AFR':afr_res, 'AMR':amr_res, 'EAS':eas_res}\n",
        "\n",
        "    df_patient = pd.DataFrame(index=index,\n",
        "                    data=d \n",
        "                    #columns=['ChrLocation', 'ALT','Presence']\n",
        "                    )    \n",
        "        \n",
        "    main_df = pd.concat([main_df,df_patient], axis=0)\n",
        "\n",
        "    \n",
        "\n",
        "patients_main_df=list(set(main_df.index.get_level_values('Patient')))\n",
        "spp_code_main_df=list(set(main_df.index.get_level_values('Superpopulation Code')))\n",
        "main_df\n",
        "\n"
      ]
    },
    {
      "cell_type": "code",
      "source": [
        "len(patients_main_df)"
      ],
      "metadata": {
        "colab": {
          "base_uri": "https://localhost:8080/"
        },
        "id": "-mI-yYoOmF8M",
        "outputId": "9606c185-8d88-4250-eb61-15bf5d51cf58"
      },
      "execution_count": 37,
      "outputs": [
        {
          "output_type": "execute_result",
          "data": {
            "text/plain": [
              "1002"
            ]
          },
          "metadata": {},
          "execution_count": 37
        }
      ]
    },
    {
      "cell_type": "code",
      "execution_count": null,
      "metadata": {
        "id": "FNMz3U4Gud0I"
      },
      "outputs": [],
      "source": [
        "for patient in patients_:\n",
        "\n",
        "  \n",
        "    #Gatting the patient's information in the CSV file \n",
        "    patient_x = pd.read_csv('Challenge_Samples/'+patient+'.csv')\n",
        "    patientX_copy = patient_x.copy()\n",
        "    patientX_copy.rename(columns={patient:'Presence'},inplace=True)\n",
        "    \n",
        "    #Creating the ALT and Presence lists (These will be the columns)    \n",
        "    alt_list= list(patientX_copy['ALT'])\n",
        "    alt_list=alt_list[:10]\n",
        "    presence_list = list(patientX_copy['Presence'])\n",
        "    presence_list=presence_list[:10]\n",
        "\n",
        "    #Getting the superpopulation code from the patient\n",
        "    code = list(spp_code[spp_code.index==patient]['superpopulation_code'] )\n",
        "    print(code)\n",
        "    sas_res = [1] * 10 if code[0] == 'SAS' else [0]*10\n",
        "    print(sas_res)"
      ]
    },
    {
      "cell_type": "code",
      "execution_count": 38,
      "metadata": {
        "id": "USrNt5TRud0K",
        "outputId": "56331971-26c2-4dfc-90e4-9555c9cfc8d3",
        "colab": {
          "base_uri": "https://localhost:8080/",
          "height": 455
        }
      },
      "outputs": [
        {
          "output_type": "execute_result",
          "data": {
            "text/plain": [
              "                                  ALT  Presence  EUR  SAS  AFR  AMR  EAS\n",
              "Superpopulation Code Chr:Location                                       \n",
              "EAS                  5;195139       T         0    0    0    0    0    1\n",
              "                     5;336952       C         0    0    0    0    0    1\n",
              "                     5;389603       C         0    0    0    0    0    1\n",
              "                     5;851582       A         1    0    0    0    0    1\n",
              "                     5;1144802      C         1    0    0    0    0    1\n",
              "...                                ..       ...  ...  ...  ...  ...  ...\n",
              "                     14;51830426    C         0    0    0    0    0    1\n",
              "                     14;51855412    G         0    0    0    0    0    1\n",
              "                     14;52096443    C         1    0    0    0    0    1\n",
              "                     14;52244332    G         1    0    0    0    0    1\n",
              "                     14;52367454    G         0    0    0    0    0    1\n",
              "\n",
              "[4000 rows x 7 columns]"
            ],
            "text/html": [
              "\n",
              "  <div id=\"df-9378036e-3820-4895-92ce-48e56892d9b0\">\n",
              "    <div class=\"colab-df-container\">\n",
              "      <div>\n",
              "<style scoped>\n",
              "    .dataframe tbody tr th:only-of-type {\n",
              "        vertical-align: middle;\n",
              "    }\n",
              "\n",
              "    .dataframe tbody tr th {\n",
              "        vertical-align: top;\n",
              "    }\n",
              "\n",
              "    .dataframe thead th {\n",
              "        text-align: right;\n",
              "    }\n",
              "</style>\n",
              "<table border=\"1\" class=\"dataframe\">\n",
              "  <thead>\n",
              "    <tr style=\"text-align: right;\">\n",
              "      <th></th>\n",
              "      <th></th>\n",
              "      <th>ALT</th>\n",
              "      <th>Presence</th>\n",
              "      <th>EUR</th>\n",
              "      <th>SAS</th>\n",
              "      <th>AFR</th>\n",
              "      <th>AMR</th>\n",
              "      <th>EAS</th>\n",
              "    </tr>\n",
              "    <tr>\n",
              "      <th>Superpopulation Code</th>\n",
              "      <th>Chr:Location</th>\n",
              "      <th></th>\n",
              "      <th></th>\n",
              "      <th></th>\n",
              "      <th></th>\n",
              "      <th></th>\n",
              "      <th></th>\n",
              "      <th></th>\n",
              "    </tr>\n",
              "  </thead>\n",
              "  <tbody>\n",
              "    <tr>\n",
              "      <th rowspan=\"11\" valign=\"top\">EAS</th>\n",
              "      <th>5;195139</th>\n",
              "      <td>T</td>\n",
              "      <td>0</td>\n",
              "      <td>0</td>\n",
              "      <td>0</td>\n",
              "      <td>0</td>\n",
              "      <td>0</td>\n",
              "      <td>1</td>\n",
              "    </tr>\n",
              "    <tr>\n",
              "      <th>5;336952</th>\n",
              "      <td>C</td>\n",
              "      <td>0</td>\n",
              "      <td>0</td>\n",
              "      <td>0</td>\n",
              "      <td>0</td>\n",
              "      <td>0</td>\n",
              "      <td>1</td>\n",
              "    </tr>\n",
              "    <tr>\n",
              "      <th>5;389603</th>\n",
              "      <td>C</td>\n",
              "      <td>0</td>\n",
              "      <td>0</td>\n",
              "      <td>0</td>\n",
              "      <td>0</td>\n",
              "      <td>0</td>\n",
              "      <td>1</td>\n",
              "    </tr>\n",
              "    <tr>\n",
              "      <th>5;851582</th>\n",
              "      <td>A</td>\n",
              "      <td>1</td>\n",
              "      <td>0</td>\n",
              "      <td>0</td>\n",
              "      <td>0</td>\n",
              "      <td>0</td>\n",
              "      <td>1</td>\n",
              "    </tr>\n",
              "    <tr>\n",
              "      <th>5;1144802</th>\n",
              "      <td>C</td>\n",
              "      <td>1</td>\n",
              "      <td>0</td>\n",
              "      <td>0</td>\n",
              "      <td>0</td>\n",
              "      <td>0</td>\n",
              "      <td>1</td>\n",
              "    </tr>\n",
              "    <tr>\n",
              "      <th>...</th>\n",
              "      <td>...</td>\n",
              "      <td>...</td>\n",
              "      <td>...</td>\n",
              "      <td>...</td>\n",
              "      <td>...</td>\n",
              "      <td>...</td>\n",
              "      <td>...</td>\n",
              "    </tr>\n",
              "    <tr>\n",
              "      <th>14;51830426</th>\n",
              "      <td>C</td>\n",
              "      <td>0</td>\n",
              "      <td>0</td>\n",
              "      <td>0</td>\n",
              "      <td>0</td>\n",
              "      <td>0</td>\n",
              "      <td>1</td>\n",
              "    </tr>\n",
              "    <tr>\n",
              "      <th>14;51855412</th>\n",
              "      <td>G</td>\n",
              "      <td>0</td>\n",
              "      <td>0</td>\n",
              "      <td>0</td>\n",
              "      <td>0</td>\n",
              "      <td>0</td>\n",
              "      <td>1</td>\n",
              "    </tr>\n",
              "    <tr>\n",
              "      <th>14;52096443</th>\n",
              "      <td>C</td>\n",
              "      <td>1</td>\n",
              "      <td>0</td>\n",
              "      <td>0</td>\n",
              "      <td>0</td>\n",
              "      <td>0</td>\n",
              "      <td>1</td>\n",
              "    </tr>\n",
              "    <tr>\n",
              "      <th>14;52244332</th>\n",
              "      <td>G</td>\n",
              "      <td>1</td>\n",
              "      <td>0</td>\n",
              "      <td>0</td>\n",
              "      <td>0</td>\n",
              "      <td>0</td>\n",
              "      <td>1</td>\n",
              "    </tr>\n",
              "    <tr>\n",
              "      <th>14;52367454</th>\n",
              "      <td>G</td>\n",
              "      <td>0</td>\n",
              "      <td>0</td>\n",
              "      <td>0</td>\n",
              "      <td>0</td>\n",
              "      <td>0</td>\n",
              "      <td>1</td>\n",
              "    </tr>\n",
              "  </tbody>\n",
              "</table>\n",
              "<p>4000 rows × 7 columns</p>\n",
              "</div>\n",
              "      <button class=\"colab-df-convert\" onclick=\"convertToInteractive('df-9378036e-3820-4895-92ce-48e56892d9b0')\"\n",
              "              title=\"Convert this dataframe to an interactive table.\"\n",
              "              style=\"display:none;\">\n",
              "        \n",
              "  <svg xmlns=\"http://www.w3.org/2000/svg\" height=\"24px\"viewBox=\"0 0 24 24\"\n",
              "       width=\"24px\">\n",
              "    <path d=\"M0 0h24v24H0V0z\" fill=\"none\"/>\n",
              "    <path d=\"M18.56 5.44l.94 2.06.94-2.06 2.06-.94-2.06-.94-.94-2.06-.94 2.06-2.06.94zm-11 1L8.5 8.5l.94-2.06 2.06-.94-2.06-.94L8.5 2.5l-.94 2.06-2.06.94zm10 10l.94 2.06.94-2.06 2.06-.94-2.06-.94-.94-2.06-.94 2.06-2.06.94z\"/><path d=\"M17.41 7.96l-1.37-1.37c-.4-.4-.92-.59-1.43-.59-.52 0-1.04.2-1.43.59L10.3 9.45l-7.72 7.72c-.78.78-.78 2.05 0 2.83L4 21.41c.39.39.9.59 1.41.59.51 0 1.02-.2 1.41-.59l7.78-7.78 2.81-2.81c.8-.78.8-2.07 0-2.86zM5.41 20L4 18.59l7.72-7.72 1.47 1.35L5.41 20z\"/>\n",
              "  </svg>\n",
              "      </button>\n",
              "      \n",
              "  <style>\n",
              "    .colab-df-container {\n",
              "      display:flex;\n",
              "      flex-wrap:wrap;\n",
              "      gap: 12px;\n",
              "    }\n",
              "\n",
              "    .colab-df-convert {\n",
              "      background-color: #E8F0FE;\n",
              "      border: none;\n",
              "      border-radius: 50%;\n",
              "      cursor: pointer;\n",
              "      display: none;\n",
              "      fill: #1967D2;\n",
              "      height: 32px;\n",
              "      padding: 0 0 0 0;\n",
              "      width: 32px;\n",
              "    }\n",
              "\n",
              "    .colab-df-convert:hover {\n",
              "      background-color: #E2EBFA;\n",
              "      box-shadow: 0px 1px 2px rgba(60, 64, 67, 0.3), 0px 1px 3px 1px rgba(60, 64, 67, 0.15);\n",
              "      fill: #174EA6;\n",
              "    }\n",
              "\n",
              "    [theme=dark] .colab-df-convert {\n",
              "      background-color: #3B4455;\n",
              "      fill: #D2E3FC;\n",
              "    }\n",
              "\n",
              "    [theme=dark] .colab-df-convert:hover {\n",
              "      background-color: #434B5C;\n",
              "      box-shadow: 0px 1px 3px 1px rgba(0, 0, 0, 0.15);\n",
              "      filter: drop-shadow(0px 1px 2px rgba(0, 0, 0, 0.3));\n",
              "      fill: #FFFFFF;\n",
              "    }\n",
              "  </style>\n",
              "\n",
              "      <script>\n",
              "        const buttonEl =\n",
              "          document.querySelector('#df-9378036e-3820-4895-92ce-48e56892d9b0 button.colab-df-convert');\n",
              "        buttonEl.style.display =\n",
              "          google.colab.kernel.accessAllowed ? 'block' : 'none';\n",
              "\n",
              "        async function convertToInteractive(key) {\n",
              "          const element = document.querySelector('#df-9378036e-3820-4895-92ce-48e56892d9b0');\n",
              "          const dataTable =\n",
              "            await google.colab.kernel.invokeFunction('convertToInteractive',\n",
              "                                                     [key], {});\n",
              "          if (!dataTable) return;\n",
              "\n",
              "          const docLinkHtml = 'Like what you see? Visit the ' +\n",
              "            '<a target=\"_blank\" href=https://colab.research.google.com/notebooks/data_table.ipynb>data table notebook</a>'\n",
              "            + ' to learn more about interactive tables.';\n",
              "          element.innerHTML = '';\n",
              "          dataTable['output_type'] = 'display_data';\n",
              "          await google.colab.output.renderOutput(dataTable, element);\n",
              "          const docLink = document.createElement('div');\n",
              "          docLink.innerHTML = docLinkHtml;\n",
              "          element.appendChild(docLink);\n",
              "        }\n",
              "      </script>\n",
              "    </div>\n",
              "  </div>\n",
              "  "
            ]
          },
          "metadata": {},
          "execution_count": 38
        }
      ],
      "source": [
        "#main_df.xs('EUR',level='Superpopulation Code')\n",
        "main_df.xs('NA18525')\n",
        "# main_df.index.names\n",
        "#spp_code_main_df\n",
        "#patients_main_df[:5]"
      ]
    },
    {
      "cell_type": "code",
      "execution_count": null,
      "metadata": {
        "id": "hqdbeibcud0K",
        "outputId": "fb888433-3565-4ca4-8963-14e18d1aac1e"
      },
      "outputs": [
        {
          "data": {
            "text/plain": [
              "AFR    64\n",
              "EAS    55\n",
              "EUR    45\n",
              "SAS    43\n",
              "AMR    43\n",
              "Name: Superpopulation Code, dtype: int64"
            ]
          },
          "execution_count": 143,
          "metadata": {},
          "output_type": "execute_result"
        }
      ],
      "source": [
        "main_df\n",
        "ancestry_freq=main_df.index.get_level_values('Superpopulation Code').value_counts()//10\n",
        "ancestry_freq"
      ]
    },
    {
      "cell_type": "code",
      "execution_count": null,
      "metadata": {
        "id": "fJb7qUisud0L",
        "outputId": "889f7863-9f55-46ae-cb2e-20712c3da489"
      },
      "outputs": [
        {
          "data": {
            "text/plain": [
              "['SAS', 'AMR', 'EAS', 'AFR', 'EUR']"
            ]
          },
          "execution_count": 135,
          "metadata": {},
          "output_type": "execute_result"
        }
      ],
      "source": [
        "list(main_df.index.get_level_values('Superpopulation Code').unique())"
      ]
    },
    {
      "cell_type": "code",
      "execution_count": null,
      "metadata": {
        "id": "tBW5rugbud0M",
        "outputId": "f00d5f50-9a7e-4dd7-df58-bba07c460b4b"
      },
      "outputs": [
        {
          "data": {
            "text/html": [
              "<div>\n",
              "<style scoped>\n",
              "    .dataframe tbody tr th:only-of-type {\n",
              "        vertical-align: middle;\n",
              "    }\n",
              "\n",
              "    .dataframe tbody tr th {\n",
              "        vertical-align: top;\n",
              "    }\n",
              "\n",
              "    .dataframe thead th {\n",
              "        text-align: right;\n",
              "    }\n",
              "</style>\n",
              "<table border=\"1\" class=\"dataframe\">\n",
              "  <thead>\n",
              "    <tr style=\"text-align: right;\">\n",
              "      <th></th>\n",
              "      <th></th>\n",
              "      <th>ALT</th>\n",
              "      <th>Presence</th>\n",
              "      <th>EUR</th>\n",
              "    </tr>\n",
              "    <tr>\n",
              "      <th>Superpopulation Code</th>\n",
              "      <th>Chr:Location</th>\n",
              "      <th></th>\n",
              "      <th></th>\n",
              "      <th></th>\n",
              "    </tr>\n",
              "  </thead>\n",
              "  <tbody>\n",
              "    <tr>\n",
              "      <th rowspan=\"10\" valign=\"top\">EAS</th>\n",
              "      <th>5;195139</th>\n",
              "      <td>T</td>\n",
              "      <td>0</td>\n",
              "      <td>0</td>\n",
              "    </tr>\n",
              "    <tr>\n",
              "      <th>5;336952</th>\n",
              "      <td>C</td>\n",
              "      <td>1</td>\n",
              "      <td>0</td>\n",
              "    </tr>\n",
              "    <tr>\n",
              "      <th>5;389603</th>\n",
              "      <td>C</td>\n",
              "      <td>0</td>\n",
              "      <td>0</td>\n",
              "    </tr>\n",
              "    <tr>\n",
              "      <th>5;851582</th>\n",
              "      <td>A</td>\n",
              "      <td>0</td>\n",
              "      <td>0</td>\n",
              "    </tr>\n",
              "    <tr>\n",
              "      <th>5;1144802</th>\n",
              "      <td>C</td>\n",
              "      <td>1</td>\n",
              "      <td>0</td>\n",
              "    </tr>\n",
              "    <tr>\n",
              "      <th>5;1167618</th>\n",
              "      <td>C</td>\n",
              "      <td>0</td>\n",
              "      <td>0</td>\n",
              "    </tr>\n",
              "    <tr>\n",
              "      <th>5;1175892</th>\n",
              "      <td>G</td>\n",
              "      <td>0</td>\n",
              "      <td>0</td>\n",
              "    </tr>\n",
              "    <tr>\n",
              "      <th>5;1398007</th>\n",
              "      <td>T</td>\n",
              "      <td>0</td>\n",
              "      <td>0</td>\n",
              "    </tr>\n",
              "    <tr>\n",
              "      <th>5;1447860</th>\n",
              "      <td>T</td>\n",
              "      <td>0</td>\n",
              "      <td>0</td>\n",
              "    </tr>\n",
              "    <tr>\n",
              "      <th>5;1721485</th>\n",
              "      <td>C</td>\n",
              "      <td>0</td>\n",
              "      <td>0</td>\n",
              "    </tr>\n",
              "  </tbody>\n",
              "</table>\n",
              "</div>"
            ],
            "text/plain": [
              "                                  ALT  Presence  EUR\n",
              "Superpopulation Code Chr:Location                   \n",
              "EAS                  5;195139       T         0    0\n",
              "                     5;336952       C         1    0\n",
              "                     5;389603       C         0    0\n",
              "                     5;851582       A         0    0\n",
              "                     5;1144802      C         1    0\n",
              "                     5;1167618      C         0    0\n",
              "                     5;1175892      G         0    0\n",
              "                     5;1398007      T         0    0\n",
              "                     5;1447860      T         0    0\n",
              "                     5;1721485      C         0    0"
            ]
          },
          "execution_count": 140,
          "metadata": {},
          "output_type": "execute_result"
        }
      ],
      "source": [
        "main_df.to_csv('main_df.csv', index=True)\n",
        "df_without_index = pd.read_csv('main_df.csv')\n",
        "df_without_index\n"
      ]
    },
    {
      "cell_type": "markdown",
      "metadata": {
        "id": "lnzZTfzAud0O"
      },
      "source": [
        "## Here starts the section of training the model"
      ]
    },
    {
      "cell_type": "code",
      "execution_count": null,
      "metadata": {
        "id": "Ka6qzuz_ud0O"
      },
      "outputs": [],
      "source": [
        "from sklearn.model_selection import train_test_split"
      ]
    },
    {
      "cell_type": "code",
      "execution_count": null,
      "metadata": {
        "id": "P5aY5yKuud0P",
        "outputId": "6a065182-b99c-4a47-9073-cc19e0c20e7d"
      },
      "outputs": [
        {
          "data": {
            "text/html": [
              "<div>\n",
              "<style scoped>\n",
              "    .dataframe tbody tr th:only-of-type {\n",
              "        vertical-align: middle;\n",
              "    }\n",
              "\n",
              "    .dataframe tbody tr th {\n",
              "        vertical-align: top;\n",
              "    }\n",
              "\n",
              "    .dataframe thead th {\n",
              "        text-align: right;\n",
              "    }\n",
              "</style>\n",
              "<table border=\"1\" class=\"dataframe\">\n",
              "  <thead>\n",
              "    <tr style=\"text-align: right;\">\n",
              "      <th></th>\n",
              "      <th></th>\n",
              "      <th></th>\n",
              "      <th>ALT</th>\n",
              "      <th>Presence</th>\n",
              "      <th>EUR</th>\n",
              "      <th>SAS</th>\n",
              "      <th>AFR</th>\n",
              "      <th>AMR</th>\n",
              "      <th>EAS</th>\n",
              "    </tr>\n",
              "    <tr>\n",
              "      <th>Patient</th>\n",
              "      <th>Superpopulation Code</th>\n",
              "      <th>Chr:Location</th>\n",
              "      <th></th>\n",
              "      <th></th>\n",
              "      <th></th>\n",
              "      <th></th>\n",
              "      <th></th>\n",
              "      <th></th>\n",
              "      <th></th>\n",
              "    </tr>\n",
              "  </thead>\n",
              "  <tbody>\n",
              "    <tr>\n",
              "      <th>HG00628</th>\n",
              "      <th>EAS</th>\n",
              "      <th>5;1167618</th>\n",
              "      <td>C</td>\n",
              "      <td>0</td>\n",
              "      <td>0</td>\n",
              "      <td>0</td>\n",
              "      <td>0</td>\n",
              "      <td>0</td>\n",
              "      <td>1</td>\n",
              "    </tr>\n",
              "    <tr>\n",
              "      <th>HG01072</th>\n",
              "      <th>AMR</th>\n",
              "      <th>5;1175892</th>\n",
              "      <td>G</td>\n",
              "      <td>0</td>\n",
              "      <td>0</td>\n",
              "      <td>0</td>\n",
              "      <td>0</td>\n",
              "      <td>1</td>\n",
              "      <td>0</td>\n",
              "    </tr>\n",
              "    <tr>\n",
              "      <th>HG01284</th>\n",
              "      <th>AMR</th>\n",
              "      <th>5;1398007</th>\n",
              "      <td>T</td>\n",
              "      <td>0</td>\n",
              "      <td>0</td>\n",
              "      <td>0</td>\n",
              "      <td>0</td>\n",
              "      <td>1</td>\n",
              "      <td>0</td>\n",
              "    </tr>\n",
              "    <tr>\n",
              "      <th>HG01097</th>\n",
              "      <th>AMR</th>\n",
              "      <th>5;195139</th>\n",
              "      <td>T</td>\n",
              "      <td>0</td>\n",
              "      <td>0</td>\n",
              "      <td>0</td>\n",
              "      <td>0</td>\n",
              "      <td>1</td>\n",
              "      <td>0</td>\n",
              "    </tr>\n",
              "    <tr>\n",
              "      <th>NA19703</th>\n",
              "      <th>AFR</th>\n",
              "      <th>5;389603</th>\n",
              "      <td>C</td>\n",
              "      <td>1</td>\n",
              "      <td>0</td>\n",
              "      <td>0</td>\n",
              "      <td>1</td>\n",
              "      <td>0</td>\n",
              "      <td>0</td>\n",
              "    </tr>\n",
              "    <tr>\n",
              "      <th>...</th>\n",
              "      <th>...</th>\n",
              "      <th>...</th>\n",
              "      <td>...</td>\n",
              "      <td>...</td>\n",
              "      <td>...</td>\n",
              "      <td>...</td>\n",
              "      <td>...</td>\n",
              "      <td>...</td>\n",
              "      <td>...</td>\n",
              "    </tr>\n",
              "    <tr>\n",
              "      <th>HG02611</th>\n",
              "      <th>AFR</th>\n",
              "      <th>5;1144802</th>\n",
              "      <td>C</td>\n",
              "      <td>1</td>\n",
              "      <td>0</td>\n",
              "      <td>0</td>\n",
              "      <td>1</td>\n",
              "      <td>0</td>\n",
              "      <td>0</td>\n",
              "    </tr>\n",
              "    <tr>\n",
              "      <th>HG01939</th>\n",
              "      <th>AMR</th>\n",
              "      <th>5;389603</th>\n",
              "      <td>C</td>\n",
              "      <td>0</td>\n",
              "      <td>0</td>\n",
              "      <td>0</td>\n",
              "      <td>0</td>\n",
              "      <td>1</td>\n",
              "      <td>0</td>\n",
              "    </tr>\n",
              "    <tr>\n",
              "      <th>NA19077</th>\n",
              "      <th>EAS</th>\n",
              "      <th>5;336952</th>\n",
              "      <td>C</td>\n",
              "      <td>0</td>\n",
              "      <td>0</td>\n",
              "      <td>0</td>\n",
              "      <td>0</td>\n",
              "      <td>0</td>\n",
              "      <td>1</td>\n",
              "    </tr>\n",
              "    <tr>\n",
              "      <th>HG01251</th>\n",
              "      <th>AMR</th>\n",
              "      <th>5;1398007</th>\n",
              "      <td>T</td>\n",
              "      <td>1</td>\n",
              "      <td>0</td>\n",
              "      <td>0</td>\n",
              "      <td>0</td>\n",
              "      <td>1</td>\n",
              "      <td>0</td>\n",
              "    </tr>\n",
              "    <tr>\n",
              "      <th>NA19189</th>\n",
              "      <th>AFR</th>\n",
              "      <th>5;1447860</th>\n",
              "      <td>T</td>\n",
              "      <td>0</td>\n",
              "      <td>0</td>\n",
              "      <td>0</td>\n",
              "      <td>1</td>\n",
              "      <td>0</td>\n",
              "      <td>0</td>\n",
              "    </tr>\n",
              "  </tbody>\n",
              "</table>\n",
              "<p>2000 rows × 7 columns</p>\n",
              "</div>"
            ],
            "text/plain": [
              "                                          ALT  Presence  EUR  SAS  AFR  AMR  \\\n",
              "Patient Superpopulation Code Chr:Location                                     \n",
              "HG00628 EAS                  5;1167618      C         0    0    0    0    0   \n",
              "HG01072 AMR                  5;1175892      G         0    0    0    0    1   \n",
              "HG01284 AMR                  5;1398007      T         0    0    0    0    1   \n",
              "HG01097 AMR                  5;195139       T         0    0    0    0    1   \n",
              "NA19703 AFR                  5;389603       C         1    0    0    1    0   \n",
              "...                                        ..       ...  ...  ...  ...  ...   \n",
              "HG02611 AFR                  5;1144802      C         1    0    0    1    0   \n",
              "HG01939 AMR                  5;389603       C         0    0    0    0    1   \n",
              "NA19077 EAS                  5;336952       C         0    0    0    0    0   \n",
              "HG01251 AMR                  5;1398007      T         1    0    0    0    1   \n",
              "NA19189 AFR                  5;1447860      T         0    0    0    1    0   \n",
              "\n",
              "                                           EAS  \n",
              "Patient Superpopulation Code Chr:Location       \n",
              "HG00628 EAS                  5;1167618       1  \n",
              "HG01072 AMR                  5;1175892       0  \n",
              "HG01284 AMR                  5;1398007       0  \n",
              "HG01097 AMR                  5;195139        0  \n",
              "NA19703 AFR                  5;389603        0  \n",
              "...                                        ...  \n",
              "HG02611 AFR                  5;1144802       0  \n",
              "HG01939 AMR                  5;389603        0  \n",
              "NA19077 EAS                  5;336952        1  \n",
              "HG01251 AMR                  5;1398007       0  \n",
              "NA19189 AFR                  5;1447860       0  \n",
              "\n",
              "[2000 rows x 7 columns]"
            ]
          },
          "execution_count": 148,
          "metadata": {},
          "output_type": "execute_result"
        }
      ],
      "source": [
        "from sklearn.model_selection import train_test_split\n",
        "train, test = train_test_split(main_df, test_size=0.2)\n",
        "test\n",
        "train.sort_index()\n",
        "train.index.names[0]\n",
        "train"
      ]
    },
    {
      "cell_type": "code",
      "execution_count": null,
      "metadata": {
        "id": "SoWVT7gqud0Q",
        "outputId": "216f7ff6-f068-46ff-d787-b65166aa36b3"
      },
      "outputs": [
        {
          "ename": "NameError",
          "evalue": "name 'y' is not defined",
          "output_type": "error",
          "traceback": [
            "\u001b[1;31m---------------------------------------------------------------------------\u001b[0m",
            "\u001b[1;31mNameError\u001b[0m                                 Traceback (most recent call last)",
            "\u001b[1;32m~\\AppData\\Local\\Temp\\ipykernel_17480\\1815637429.py\u001b[0m in \u001b[0;36m<module>\u001b[1;34m\u001b[0m\n\u001b[1;32m----> 1\u001b[1;33m X_train, X_test, y_train, y_test = train_test_split(x, y, test_size=0.2, \n\u001b[0m\u001b[0;32m      2\u001b[0m                                                     random_state=42)\n",
            "\u001b[1;31mNameError\u001b[0m: name 'y' is not defined"
          ]
        }
      ],
      "source": [
        "X=main_df\n",
        "x = \n",
        "X_train, X_test, y_train, y_test = train_test_split(x, y, test_size=0.2)"
      ]
    },
    {
      "cell_type": "code",
      "execution_count": null,
      "metadata": {
        "id": "ZrbvmTh9ud0Q",
        "outputId": "dec719b4-d33f-4dd2-c1a5-6775f0b63e10"
      },
      "outputs": [
        {
          "data": {
            "text/plain": [
              "FrozenList(['Patient', 'Superpopulation Code', 'Chr:Location'])"
            ]
          },
          "execution_count": 59,
          "metadata": {},
          "output_type": "execute_result"
        }
      ],
      "source": [
        "main_df.index.names"
      ]
    },
    {
      "cell_type": "code",
      "execution_count": null,
      "metadata": {
        "id": "Z_w3Fapoud0R",
        "outputId": "02badbe7-3a5d-4056-eab4-0365c31eccf3"
      },
      "outputs": [
        {
          "data": {
            "text/html": [
              "<div>\n",
              "<style scoped>\n",
              "    .dataframe tbody tr th:only-of-type {\n",
              "        vertical-align: middle;\n",
              "    }\n",
              "\n",
              "    .dataframe tbody tr th {\n",
              "        vertical-align: top;\n",
              "    }\n",
              "\n",
              "    .dataframe thead th {\n",
              "        text-align: right;\n",
              "    }\n",
              "</style>\n",
              "<table border=\"1\" class=\"dataframe\">\n",
              "  <thead>\n",
              "    <tr style=\"text-align: right;\">\n",
              "      <th></th>\n",
              "      <th>Patient</th>\n",
              "      <th>Chr:Location</th>\n",
              "      <th>ALT</th>\n",
              "      <th>Presence</th>\n",
              "      <th>EUR</th>\n",
              "      <th>SAS</th>\n",
              "      <th>AFR</th>\n",
              "      <th>AMR</th>\n",
              "      <th>EAS</th>\n",
              "    </tr>\n",
              "  </thead>\n",
              "  <tbody>\n",
              "    <tr>\n",
              "      <th>0</th>\n",
              "      <td>NA20876</td>\n",
              "      <td>5;195139</td>\n",
              "      <td>T</td>\n",
              "      <td>0</td>\n",
              "      <td>0</td>\n",
              "      <td>1</td>\n",
              "      <td>0</td>\n",
              "      <td>0</td>\n",
              "      <td>0</td>\n",
              "    </tr>\n",
              "    <tr>\n",
              "      <th>1</th>\n",
              "      <td>NA20876</td>\n",
              "      <td>5;336952</td>\n",
              "      <td>C</td>\n",
              "      <td>0</td>\n",
              "      <td>0</td>\n",
              "      <td>1</td>\n",
              "      <td>0</td>\n",
              "      <td>0</td>\n",
              "      <td>0</td>\n",
              "    </tr>\n",
              "    <tr>\n",
              "      <th>2</th>\n",
              "      <td>NA20876</td>\n",
              "      <td>5;389603</td>\n",
              "      <td>C</td>\n",
              "      <td>0</td>\n",
              "      <td>0</td>\n",
              "      <td>1</td>\n",
              "      <td>0</td>\n",
              "      <td>0</td>\n",
              "      <td>0</td>\n",
              "    </tr>\n",
              "    <tr>\n",
              "      <th>3</th>\n",
              "      <td>NA20876</td>\n",
              "      <td>5;851582</td>\n",
              "      <td>A</td>\n",
              "      <td>0</td>\n",
              "      <td>0</td>\n",
              "      <td>1</td>\n",
              "      <td>0</td>\n",
              "      <td>0</td>\n",
              "      <td>0</td>\n",
              "    </tr>\n",
              "    <tr>\n",
              "      <th>4</th>\n",
              "      <td>NA20876</td>\n",
              "      <td>5;1144802</td>\n",
              "      <td>C</td>\n",
              "      <td>1</td>\n",
              "      <td>0</td>\n",
              "      <td>1</td>\n",
              "      <td>0</td>\n",
              "      <td>0</td>\n",
              "      <td>0</td>\n",
              "    </tr>\n",
              "    <tr>\n",
              "      <th>...</th>\n",
              "      <td>...</td>\n",
              "      <td>...</td>\n",
              "      <td>...</td>\n",
              "      <td>...</td>\n",
              "      <td>...</td>\n",
              "      <td>...</td>\n",
              "      <td>...</td>\n",
              "      <td>...</td>\n",
              "      <td>...</td>\n",
              "    </tr>\n",
              "    <tr>\n",
              "      <th>2495</th>\n",
              "      <td>HG01815</td>\n",
              "      <td>5;1167618</td>\n",
              "      <td>C</td>\n",
              "      <td>0</td>\n",
              "      <td>0</td>\n",
              "      <td>0</td>\n",
              "      <td>0</td>\n",
              "      <td>0</td>\n",
              "      <td>1</td>\n",
              "    </tr>\n",
              "    <tr>\n",
              "      <th>2496</th>\n",
              "      <td>HG01815</td>\n",
              "      <td>5;1175892</td>\n",
              "      <td>G</td>\n",
              "      <td>0</td>\n",
              "      <td>0</td>\n",
              "      <td>0</td>\n",
              "      <td>0</td>\n",
              "      <td>0</td>\n",
              "      <td>1</td>\n",
              "    </tr>\n",
              "    <tr>\n",
              "      <th>2497</th>\n",
              "      <td>HG01815</td>\n",
              "      <td>5;1398007</td>\n",
              "      <td>T</td>\n",
              "      <td>0</td>\n",
              "      <td>0</td>\n",
              "      <td>0</td>\n",
              "      <td>0</td>\n",
              "      <td>0</td>\n",
              "      <td>1</td>\n",
              "    </tr>\n",
              "    <tr>\n",
              "      <th>2498</th>\n",
              "      <td>HG01815</td>\n",
              "      <td>5;1447860</td>\n",
              "      <td>T</td>\n",
              "      <td>0</td>\n",
              "      <td>0</td>\n",
              "      <td>0</td>\n",
              "      <td>0</td>\n",
              "      <td>0</td>\n",
              "      <td>1</td>\n",
              "    </tr>\n",
              "    <tr>\n",
              "      <th>2499</th>\n",
              "      <td>HG01815</td>\n",
              "      <td>5;1721485</td>\n",
              "      <td>C</td>\n",
              "      <td>0</td>\n",
              "      <td>0</td>\n",
              "      <td>0</td>\n",
              "      <td>0</td>\n",
              "      <td>0</td>\n",
              "      <td>1</td>\n",
              "    </tr>\n",
              "  </tbody>\n",
              "</table>\n",
              "<p>2500 rows × 9 columns</p>\n",
              "</div>"
            ],
            "text/plain": [
              "      Patient Chr:Location ALT  Presence  EUR  SAS  AFR  AMR  EAS\n",
              "0     NA20876     5;195139   T         0    0    1    0    0    0\n",
              "1     NA20876     5;336952   C         0    0    1    0    0    0\n",
              "2     NA20876     5;389603   C         0    0    1    0    0    0\n",
              "3     NA20876     5;851582   A         0    0    1    0    0    0\n",
              "4     NA20876    5;1144802   C         1    0    1    0    0    0\n",
              "...       ...          ...  ..       ...  ...  ...  ...  ...  ...\n",
              "2495  HG01815    5;1167618   C         0    0    0    0    0    1\n",
              "2496  HG01815    5;1175892   G         0    0    0    0    0    1\n",
              "2497  HG01815    5;1398007   T         0    0    0    0    0    1\n",
              "2498  HG01815    5;1447860   T         0    0    0    0    0    1\n",
              "2499  HG01815    5;1721485   C         0    0    0    0    0    1\n",
              "\n",
              "[2500 rows x 9 columns]"
            ]
          },
          "execution_count": 144,
          "metadata": {},
          "output_type": "execute_result"
        }
      ],
      "source": [
        "x = df_without_index.drop(['Superpopulation Code'],axis=1)\n",
        "x"
      ]
    },
    {
      "cell_type": "code",
      "execution_count": null,
      "metadata": {
        "id": "Ff66cUT-ud0T",
        "outputId": "66f4111f-efaa-4fbd-bc2c-c4c21629e235"
      },
      "outputs": [
        {
          "data": {
            "text/plain": [
              "0       SAS\n",
              "1       SAS\n",
              "2       SAS\n",
              "3       SAS\n",
              "4       SAS\n",
              "       ... \n",
              "2495    EAS\n",
              "2496    EAS\n",
              "2497    EAS\n",
              "2498    EAS\n",
              "2499    EAS\n",
              "Name: Superpopulation Code, Length: 2500, dtype: object"
            ]
          },
          "execution_count": 145,
          "metadata": {},
          "output_type": "execute_result"
        }
      ],
      "source": [
        "y = df_without_index['Superpopulation Code']\n",
        "y"
      ]
    },
    {
      "cell_type": "markdown",
      "metadata": {
        "id": "L1cHe9zVud0T"
      },
      "source": [
        "### European ancestry SVM"
      ]
    },
    {
      "cell_type": "code",
      "execution_count": null,
      "metadata": {
        "id": "FIPOW9Rbud0U",
        "outputId": "83054fac-2961-44d4-ed68-94bbc18fceb3"
      },
      "outputs": [
        {
          "data": {
            "text/plain": [
              "250"
            ]
          },
          "execution_count": 258,
          "metadata": {},
          "output_type": "execute_result"
        }
      ],
      "source": [
        "df_eur = main_df.drop(['SAS', 'AFR', 'AMR', 'EAS'], axis=1)\n",
        "df_eur = df_eur.reset_index()\n",
        "df_eur.set_index(['Patient','Superpopulation Code', 'Chr:Location','ALT'],inplace=True)\n",
        "df_eur\n",
        "#len((set(df_eur.index.get_level_values('Patient'))))\n",
        "patients_eur_df=list(set(df_eur.index.get_level_values('Patient')))\n",
        "len(patients_eur_df)\n"
      ]
    },
    {
      "cell_type": "code",
      "execution_count": null,
      "metadata": {
        "id": "0HhrZ8Imud0U",
        "outputId": "2ec5f633-ee34-4518-b519-54ad789a07fd"
      },
      "outputs": [
        {
          "data": {
            "text/html": [
              "<div>\n",
              "<style scoped>\n",
              "    .dataframe tbody tr th:only-of-type {\n",
              "        vertical-align: middle;\n",
              "    }\n",
              "\n",
              "    .dataframe tbody tr th {\n",
              "        vertical-align: top;\n",
              "    }\n",
              "\n",
              "    .dataframe thead th {\n",
              "        text-align: right;\n",
              "    }\n",
              "</style>\n",
              "<table border=\"1\" class=\"dataframe\">\n",
              "  <thead>\n",
              "    <tr style=\"text-align: right;\">\n",
              "      <th></th>\n",
              "      <th></th>\n",
              "      <th></th>\n",
              "      <th></th>\n",
              "      <th>Presence</th>\n",
              "    </tr>\n",
              "    <tr>\n",
              "      <th>Patient</th>\n",
              "      <th>Superpopulation Code</th>\n",
              "      <th>Chr:Location</th>\n",
              "      <th>ALT</th>\n",
              "      <th></th>\n",
              "    </tr>\n",
              "  </thead>\n",
              "  <tbody>\n",
              "    <tr>\n",
              "      <th rowspan=\"5\" valign=\"top\">HG00107</th>\n",
              "      <th rowspan=\"5\" valign=\"top\">EUR</th>\n",
              "      <th>5;389603</th>\n",
              "      <th>C</th>\n",
              "      <td>1</td>\n",
              "    </tr>\n",
              "    <tr>\n",
              "      <th>5;1144802</th>\n",
              "      <th>C</th>\n",
              "      <td>1</td>\n",
              "    </tr>\n",
              "    <tr>\n",
              "      <th>5;1167618</th>\n",
              "      <th>C</th>\n",
              "      <td>0</td>\n",
              "    </tr>\n",
              "    <tr>\n",
              "      <th>5;1175892</th>\n",
              "      <th>G</th>\n",
              "      <td>0</td>\n",
              "    </tr>\n",
              "    <tr>\n",
              "      <th>5;1398007</th>\n",
              "      <th>T</th>\n",
              "      <td>0</td>\n",
              "    </tr>\n",
              "    <tr>\n",
              "      <th>...</th>\n",
              "      <th>...</th>\n",
              "      <th>...</th>\n",
              "      <th>...</th>\n",
              "      <td>...</td>\n",
              "    </tr>\n",
              "    <tr>\n",
              "      <th rowspan=\"5\" valign=\"top\">NA21090</th>\n",
              "      <th rowspan=\"5\" valign=\"top\">SAS</th>\n",
              "      <th>5;195139</th>\n",
              "      <th>T</th>\n",
              "      <td>0</td>\n",
              "    </tr>\n",
              "    <tr>\n",
              "      <th>5;389603</th>\n",
              "      <th>C</th>\n",
              "      <td>0</td>\n",
              "    </tr>\n",
              "    <tr>\n",
              "      <th>5;1167618</th>\n",
              "      <th>C</th>\n",
              "      <td>0</td>\n",
              "    </tr>\n",
              "    <tr>\n",
              "      <th>5;1447860</th>\n",
              "      <th>T</th>\n",
              "      <td>1</td>\n",
              "    </tr>\n",
              "    <tr>\n",
              "      <th>5;1144802</th>\n",
              "      <th>C</th>\n",
              "      <td>1</td>\n",
              "    </tr>\n",
              "  </tbody>\n",
              "</table>\n",
              "<p>2000 rows × 1 columns</p>\n",
              "</div>"
            ],
            "text/plain": [
              "                                               Presence\n",
              "Patient Superpopulation Code Chr:Location ALT          \n",
              "HG00107 EUR                  5;389603     C           1\n",
              "                             5;1144802    C           1\n",
              "                             5;1167618    C           0\n",
              "                             5;1175892    G           0\n",
              "                             5;1398007    T           0\n",
              "...                                                 ...\n",
              "NA21090 SAS                  5;195139     T           0\n",
              "                             5;389603     C           0\n",
              "                             5;1167618    C           0\n",
              "                             5;1447860    T           1\n",
              "                             5;1144802    C           1\n",
              "\n",
              "[2000 rows x 1 columns]"
            ]
          },
          "execution_count": 269,
          "metadata": {},
          "output_type": "execute_result"
        }
      ],
      "source": [
        "x = df_eur.drop(['EUR'],axis=1)\n",
        "y = df_eur[['EUR']]\n",
        "#y = column_or_1d(y, warn=True)\n",
        "X_train, X_test, y_train, y_test = train_test_split(x, y, test_size=0.2, train_size=0.8,random_state=1)\n",
        "X_train.sort_values(by='Patient')\n",
        "\n"
      ]
    },
    {
      "cell_type": "code",
      "execution_count": null,
      "metadata": {
        "id": "NT2HImRCud0U",
        "outputId": "d55d88e3-9b57-4a18-dfa6-9cdfcba58178"
      },
      "outputs": [
        {
          "data": {
            "text/plain": [
              "0.204"
            ]
          },
          "execution_count": 270,
          "metadata": {},
          "output_type": "execute_result"
        }
      ],
      "source": [
        "#Import svm model\n",
        "from sklearn import svm\n",
        "from sklearn.metrics import mean_absolute_error\n",
        "\n",
        "#Create a svm Classifier\n",
        "clf = svm.SVC(kernel='linear') # Linear Kernel\n",
        "\n",
        "#Train the model using the training sets\n",
        "clf.fit(X_train, y_train.values.ravel())\n",
        "\"\"\"\n",
        ".values will give the values in a numpy array (shape: (n,1))\n",
        "\n",
        ".ravel will convert that array shape to (n, ) (i.e. flatten it)\n",
        "\"\"\"\n",
        "\n",
        "#Predict the response for test dataset\n",
        "y_pred = clf.predict(X_test)\n",
        "\n",
        "# Calculo el error medio absoluto\n",
        "mean_absolute_error(y_test, y_pred)"
      ]
    },
    {
      "cell_type": "code",
      "execution_count": null,
      "metadata": {
        "id": "2H2vhwVtud0V",
        "outputId": "6181eddc-b74f-43ff-ec56-2cb7e59d9902"
      },
      "outputs": [
        {
          "name": "stdout",
          "output_type": "stream",
          "text": [
            "Accuracy: 0.796\n",
            "Precision: 0.0\n",
            "Recall: 0.0\n"
          ]
        },
        {
          "name": "stderr",
          "output_type": "stream",
          "text": [
            "c:\\Users\\Majo Carbajal\\anaconda3\\envs\\amphora\\lib\\site-packages\\sklearn\\metrics\\_classification.py:1318: UndefinedMetricWarning: Precision is ill-defined and being set to 0.0 due to no predicted samples. Use `zero_division` parameter to control this behavior.\n",
            "  _warn_prf(average, modifier, msg_start, len(result))\n"
          ]
        }
      ],
      "source": [
        "#Import scikit-learn metrics module for accuracy calculation\n",
        "from sklearn import metrics\n",
        "\n",
        "# Model Accuracy: how often is the classifier correct?\n",
        "print(\"Accuracy:\",metrics.accuracy_score(y_test, y_pred))\n",
        "\n",
        "# Model Precision: what percentage of positive tuples are labeled as such?\n",
        "print(\"Precision:\",metrics.precision_score(y_test, y_pred))\n",
        "\n",
        "# Model Recall: what percentage of positive tuples are labelled as such?\n",
        "print(\"Recall:\",metrics.recall_score(y_test, y_pred))"
      ]
    },
    {
      "cell_type": "code",
      "execution_count": null,
      "metadata": {
        "id": "hsfNR-yTud0V",
        "outputId": "769491e7-9514-4b16-92c9-fb0a2ff2c0e2"
      },
      "outputs": [
        {
          "data": {
            "text/plain": [
              "EUR\n",
              "0      398\n",
              "1      102\n",
              "dtype: int64"
            ]
          },
          "execution_count": 272,
          "metadata": {},
          "output_type": "execute_result"
        }
      ],
      "source": [
        "\n",
        "y_test.value_counts()"
      ]
    },
    {
      "cell_type": "code",
      "execution_count": null,
      "metadata": {
        "id": "DeTshkEDud0W",
        "outputId": "a44e8a8e-18ad-4580-b6db-3c0cdd808a03"
      },
      "outputs": [
        {
          "data": {
            "text/plain": [
              "AFR    64\n",
              "EAS    55\n",
              "EUR    45\n",
              "SAS    43\n",
              "AMR    43\n",
              "Name: Superpopulation Code, dtype: int64"
            ]
          },
          "execution_count": 273,
          "metadata": {},
          "output_type": "execute_result"
        }
      ],
      "source": [
        "ancestry_freq=df_eur.index.get_level_values('Superpopulation Code').value_counts()//10\n",
        "ancestry_freq"
      ]
    },
    {
      "cell_type": "code",
      "execution_count": null,
      "metadata": {
        "id": "E9CCwbQvud0W",
        "outputId": "51eb988f-d161-4d08-b2f3-95db482ab2c6"
      },
      "outputs": [
        {
          "name": "stdout",
          "output_type": "stream",
          "text": [
            "[[398   0]\n",
            " [102   0]]\n"
          ]
        }
      ],
      "source": [
        "#IMPORTANT: first argument is true values, second argument is predicted values\n",
        "# this produces a 2x2 numpy array (matrix)\n",
        "print(metrics.confusion_matrix(y_test, y_pred))"
      ]
    },
    {
      "cell_type": "code",
      "execution_count": null,
      "metadata": {
        "id": "UGJvWLu8ud0W",
        "outputId": "cfa5fd13-2bc6-481b-e5c8-5b8e9a075348"
      },
      "outputs": [
        {
          "name": "stdout",
          "output_type": "stream",
          "text": [
            "[[398   0]\n",
            " [102   0]]\n"
          ]
        }
      ],
      "source": [
        "confusion = metrics.confusion_matrix(y_test, y_pred)\n",
        "print(confusion)\n",
        "#[row, column]\n",
        "TP = confusion[1, 1]\n",
        "TN = confusion[0, 0]\n",
        "FP = confusion[0, 1]\n",
        "FN = confusion[1, 0]"
      ]
    },
    {
      "cell_type": "code",
      "execution_count": null,
      "metadata": {
        "id": "lNYz8bBGud0W",
        "outputId": "66903034-74f7-4ccd-bb62-0b92b7779644"
      },
      "outputs": [
        {
          "name": "stdout",
          "output_type": "stream",
          "text": [
            "0.796\n",
            "0.796\n"
          ]
        }
      ],
      "source": [
        "\n",
        "\n",
        "# use float to perform true division, not integer division\n",
        "print((TP + TN) / float(TP + TN + FP + FN))\n",
        "print(metrics.accuracy_score(y_test, y_pred))\n",
        "\n"
      ]
    },
    {
      "cell_type": "code",
      "execution_count": null,
      "metadata": {
        "id": "YVbysAhkud0W",
        "outputId": "c2e6466a-b494-4fdb-cf83-cd13f3738145"
      },
      "outputs": [
        {
          "name": "stdout",
          "output_type": "stream",
          "text": [
            "0.0\n",
            "0.0\n"
          ]
        }
      ],
      "source": [
        "#Sensitivity: When the actual value is positive, how often is the prediction correct?\n",
        "\n",
        "sensitivity = TP / float(FN + TP)\n",
        "\n",
        "print(sensitivity)\n",
        "print(metrics.recall_score(y_test, y_pred))\n",
        "\n"
      ]
    },
    {
      "cell_type": "code",
      "execution_count": null,
      "metadata": {
        "id": "4KyfSqJ3ud0X",
        "outputId": "e28fce44-3ed0-48fb-9862-e6c0088f39fe"
      },
      "outputs": [
        {
          "name": "stdout",
          "output_type": "stream",
          "text": [
            "nan\n",
            "0.0\n"
          ]
        },
        {
          "name": "stderr",
          "output_type": "stream",
          "text": [
            "c:\\Users\\Majo Carbajal\\anaconda3\\envs\\amphora\\lib\\site-packages\\ipykernel_launcher.py:1: RuntimeWarning: invalid value encountered in true_divide\n",
            "  \"\"\"Entry point for launching an IPython kernel.\n",
            "c:\\Users\\Majo Carbajal\\anaconda3\\envs\\amphora\\lib\\site-packages\\sklearn\\metrics\\_classification.py:1318: UndefinedMetricWarning: Precision is ill-defined and being set to 0.0 due to no predicted samples. Use `zero_division` parameter to control this behavior.\n",
            "  _warn_prf(average, modifier, msg_start, len(result))\n"
          ]
        }
      ],
      "source": [
        "precision = TP / float(TP + FP)\n",
        "\n",
        "print(precision)\n",
        "print(metrics.precision_score(y_test, y_pred))"
      ]
    }
  ],
  "metadata": {
    "interpreter": {
      "hash": "6e12b99451188a96fe4605eb4c7ee05ee6f8d2932d13829995f682fb642b4e94"
    },
    "kernelspec": {
      "display_name": "Python 3",
      "language": "python",
      "name": "python3"
    },
    "language_info": {
      "codemirror_mode": {
        "name": "ipython",
        "version": 3
      },
      "file_extension": ".py",
      "mimetype": "text/x-python",
      "name": "python",
      "nbconvert_exporter": "python",
      "pygments_lexer": "ipython3",
      "version": "3.7.13"
    },
    "colab": {
      "name": "Copia de main4.ipynb",
      "provenance": [],
      "include_colab_link": true
    }
  },
  "nbformat": 4,
  "nbformat_minor": 0
}